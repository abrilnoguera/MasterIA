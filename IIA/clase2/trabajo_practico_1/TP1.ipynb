{
 "cells": [
  {
   "cell_type": "markdown",
   "metadata": {},
   "source": [
    "<div style=\"text-align: center;\">\n",
    "    <h1> <font style=\"bold\"> Trabajo Práctico 1 </font></h1>\n",
    "    <h2><font style=\"bold\">Algoritmos de Busqueda en Torres de Hanoi</font></h2>\n",
    "    <h3><font style=\"bold\">Abril Noguera - Pablo Brahim - Fermin Rodriguez - Kevin Pennington</font></h3>\n",
    "</div>"
   ]
  },
  {
   "cell_type": "markdown",
   "metadata": {},
   "source": [
    "En clase presentamos el problema de la torre de Hanoi. Además, vimos diferentes algoritmos de búsqueda que nos \n",
    "permitieron resolver este problema. Para este trabajo práctico, deberán implementar un método de búsqueda para \n",
    "resolver con 5 discos, del estado inicial y objetivo que se observa en la siguiente imagen:\n",
    "\n",
    "![Torres Hanoi](./torres.png \"Torres Hanoi\")\n"
   ]
  },
  {
   "cell_type": "markdown",
   "metadata": {},
   "source": [
    "--- \n",
    "\n",
    "### 1. ¿Cuáles son los PEAS de este problema? (Performance, Environment, Actuators, Sensors)"
   ]
  },
  {
   "cell_type": "markdown",
   "metadata": {},
   "source": [
    "#### Supuesto del Problema\n",
    "\n",
    "El problema de las **Torres de Hanoi** consiste en trasladar un conjunto de **5 discos** desde una **varilla inicial** a una **varilla final**, utilizando una **varilla auxiliar**, siguiendo reglas estrictas:\n",
    "\n",
    "1. Solo se puede mover un disco a la vez.\n",
    "2. Cada movimiento translada un disco de una varilla a otra.\n",
    "2. Un disco no puede colocarse sobre otro más pequeño.\n",
    "3. El objetivo es mover todos los discos a la última varilla en la menor cantidad de movimientos posible.\n",
    "\n",
    "Para esta simulación en **Python**, consideramos un **agente computacional** que toma decisiones y ejecuta movimientos basados en un algoritmo de búsqueda, asegurando que los movimientos sean válidos y eficientes. \n",
    "\n",
    "El **estado inicial** es un conjunto de 5 discos apilados en la primera varilla, mientras que el **estado final** se alcanza cuando todos los discos están en la tercera varilla, en el mismo orden.\n",
    "\n",
    "#### Especificación del Entorno (PEAS)\n",
    "\n",
    "| **Categoría**       | **Descripción** |\n",
    "|-------------------|-------------------------------|\n",
    "| **Performance** | - Minimizar la cantidad de movimientos. <br> - Cumplir con las reglas del juego. <br> - Resolver el problema en el menor tiempo computacional posible.  <br> - Resolver el problema en el menor costo computacional (memoria) posible. |\n",
    "| **Environment** | - Tres varillas representadas como listas. <br> - Cinco discos de diferentes tamaños, representados como enteros segun su tamaño. |\n",
    "| **Actuators** | - Mover un disco de una varilla a otra, validando reglas. <br> - Ejecutar movimientos en `ActionHanoi`. |\n",
    "| **Sensors** | - Estado actual de las varillas y posición de los discos. <br> - Validación de movimientos permitidos. <br> - Número de discos que no estan en la varilla objetivo. |\n"
   ]
  },
  {
   "cell_type": "markdown",
   "metadata": {},
   "source": [
    "--- \n",
    "### 2. ¿Cuáles son las propiedades del entorno de trabajo?"
   ]
  },
  {
   "cell_type": "markdown",
   "metadata": {},
   "source": [
    "#### Propiedades del entorno\n",
    "\n",
    "El problema de la Torre de Hanoi se resuelve en un entorno totalmente observable, determinista, secuencial, estático, discreto y con un agente individual."
   ]
  },
  {
   "cell_type": "markdown",
   "metadata": {},
   "source": [
    "---\n",
    "### 3. En el contexto de este problema, establezca cuáles son los: estado, espacio de estados, árbol de búsqueda, nodo de búsqueda, objetivo, acción y frontera.\n",
    "\n",
    "#### Estado\n",
    "\n",
    "El estado representa cómo estan distribuidos los discos en los tres postes en un momento determinado, osea, en qué torre esta cada disco y en qué orden.\n",
    "\n",
    "#### Espacio de estados\n",
    "\n",
    "El espacio de estados es el conjunto de todas las configuraciones posibles de los discos en todas las torres.\n",
    "\n",
    "#### Árbol de búsqueda\n",
    "\n",
    "El árbol de búsqueda es la estructura que representa todas las posibles secuencias de movimientos desde el estado inicial hasta el estado objetivo. En este caso, cada nodo es una configuración de discos, cada rama es una acción que une un estado con otro (haciendo movimientos legales)\n",
    "\n",
    "#### Nodo de búsqueda\n",
    "\n",
    "Un nódo de busqueda es un estado específico del árbol donde también sabemos el nodo del que vino, la acción que llevo a ese estado y la profunidad del árbol.\n",
    "\n",
    "#### Objetivo\n",
    "\n",
    "El objetivo en este contexto es llegar a un estado en donde todos los discos esten en la torre destino y en el orden correcto (del más grande abajo al más chico arriba de todo)\n",
    "\n",
    "#### Acción\n",
    "\n",
    "Una acción es mover el disco superior de una torre a otra, cumpliendo con las reglas del problema.\n",
    "\n",
    "#### Frontera\n",
    "\n",
    "La frontera es el conjunto de nodos generados pero aún no explorados en el arbol de búsqueda, osea los siguientes candidatos a ser expandidos (dependiendo el algoritmo utilizado)"
   ]
  },
  {
   "cell_type": "markdown",
   "metadata": {},
   "source": [
    "--- \n",
    "\n",
    "### 4. Implemente algún método de búsqueda. Puedes elegir cualquiera menos búsqueda en anchura primero (el desarrollado en clase). Sos libre de elegir cualquiera de los vistos en clases, o inclusive buscar nuevos."
   ]
  },
  {
   "cell_type": "markdown",
   "metadata": {},
   "source": [
    "#### A*"
   ]
  },
  {
   "cell_type": "code",
   "execution_count": null,
   "metadata": {},
   "outputs": [],
   "source": [
    "from aima_libs.hanoi_states import ProblemHanoi, StatesHanoi\n",
    "from aima_libs.tree_hanoi import NodeHanoi\n",
    "from aima_libs.aima import PriorityQueue"
   ]
  },
  {
   "cell_type": "code",
   "execution_count": null,
   "metadata": {},
   "outputs": [],
   "source": [
    "def heuristic_func(node, goal):\n",
    "\n",
    "    state = node.state\n",
    "    count = 0\n",
    "    for a, b in zip(state.rods[2], goal.rods[2]):\n",
    "        if a == b:\n",
    "            count += 1\n",
    "        else:\n",
    "            break  \n",
    "    return len(goal.rods[2]) - count"
   ]
  },
  {
   "cell_type": "code",
   "execution_count": null,
   "metadata": {},
   "outputs": [],
   "source": [
    "def astar_search(heuristic_func, number_disks=5):\n",
    "    # Inicializamos el problema\n",
    "    list_disks = [i for i in range(number_disks, 0, -1)]\n",
    "    initial_state = StatesHanoi(list_disks, [], [], max_disks=number_disks)\n",
    "    goal_state = StatesHanoi([], [], list_disks, max_disks=number_disks)\n",
    "    problem = ProblemHanoi(initial=initial_state, goal=goal_state)\n",
    "\n",
    "    def f(node):\n",
    "        return node.path_cost + heuristic_func(node, goal_state)\n",
    "    \n",
    "    # Creamos el set con estados ya visitados\n",
    "    explored = set()\n",
    "    node = NodeHanoi(problem.initial)\n",
    "    frontier = PriorityQueue(f=f, order='min')\n",
    "\n",
    "    frontier.append(node)\n",
    "\n",
    "    node_explored = 0\n",
    "\n",
    "    # Creamos una cola de prioridad con el nodo inicial\n",
    "    if problem.goal_test(node.state):\n",
    "        metrics = {\n",
    "                \"solution_found\": True,\n",
    "                \"nodes_explored\": node_explored,\n",
    "                \"states_visited\": len(explored),\n",
    "                \"nodes_in_frontier\": len(frontier),\n",
    "                \"max_depth\": node.depth,\n",
    "                \"cost_total\": node.state.accumulated_cost\n",
    "            }\n",
    "        return node, metrics\n",
    "    \n",
    "    while len(frontier) != 0:\n",
    "        node = frontier.pop()[1]\n",
    "        node_explored += 1\n",
    "        \n",
    "        # Agregamos el estado del nodo al set. Esto evita guardar duplicados, porque set nunca tiene elementos repetidos\n",
    "        explored.add(node.state)\n",
    "        \n",
    "        if problem.goal_test(node.state):  # Comprobamos si hemos alcanzado el estado objetivo\n",
    "            metrics = {\n",
    "                \"solution_found\": True,\n",
    "                \"nodes_explored\": node_explored,\n",
    "                \"states_visited\": len(explored),\n",
    "                \"nodes_in_frontier\": len(frontier),\n",
    "                \"max_depth\": node.depth,\n",
    "                \"cost_total\": node.state.accumulated_cost\n",
    "            }\n",
    "            return node, metrics\n",
    "        \n",
    "        # Agregamos a la cola todos los nodos sucesores del nodo actual\n",
    "        for next_node in node.expand(problem):\n",
    "            # Solo si el estado del nodo no fue explorado\n",
    "            if next_node.state not in explored:\n",
    "                frontier.append(next_node)\n",
    "            elif next_node in frontier:\n",
    "                # Si ya está en la frontera, actualizamos su costo si es menor\n",
    "                if f(next_node) < frontier[next_node]:\n",
    "                    del frontier[next_node]\n",
    "                    frontier.append(next_node)\n",
    "\n",
    "    # Si no se encontro la solución, devolvemos la métricas igual\n",
    "    metrics = {\n",
    "        \"solution_found\": False,\n",
    "        \"nodes_explored\": node_explored,\n",
    "        \"states_visited\": len(explored),\n",
    "        \"nodes_in_frontier\": len(frontier),\n",
    "        \"max_depth\": node.depth, # OBS: Si no se encontró la solución, este valor solo tiene sentido en breadth_first_search, en otros casos se debe ir llevando registro de cual fue la máxima profundidad\n",
    "        \"cost_total\": None\n",
    "    }\n",
    "    return None, metrics"
   ]
  },
  {
   "cell_type": "code",
   "execution_count": null,
   "metadata": {},
   "outputs": [],
   "source": [
    "solution, metrics = astar_search(heuristic_func, 5)"
   ]
  },
  {
   "cell_type": "code",
   "execution_count": null,
   "metadata": {},
   "outputs": [
    {
     "name": "stdout",
     "output_type": "stream",
     "text": [
      "solution_found: True\n",
      "nodes_explored: 268\n",
      "states_visited: 169\n",
      "nodes_in_frontier: 18\n",
      "max_depth: 31\n",
      "cost_total: 31.0\n"
     ]
    }
   ],
   "source": [
    "for key, value in metrics.items():\n",
    "    print(f\"{key}: {value}\")"
   ]
  },
  {
   "cell_type": "code",
   "execution_count": null,
   "metadata": {},
   "outputs": [],
   "source": [
    "solution.generate_solution_for_simulator()"
   ]
  },
  {
   "cell_type": "markdown",
   "metadata": {},
   "source": [
    "Execute: \n",
    "\n",
    "`poetry shell`\n",
    "\n",
    "`cd clase2/trabajo_practico_1/simulator`\n",
    "\n",
    "`python3 simulation_hanoi.py`"
   ]
  },
  {
   "cell_type": "markdown",
   "metadata": {},
   "source": [
    "--- \n",
    "### 5. ¿Qué complejidad en tiempo y memoria tiene el algoritmo elegido? "
   ]
  },
  {
   "cell_type": "markdown",
   "metadata": {},
   "source": [
    "A nivel teorico, en el A* hay que buscar referencias."
   ]
  },
  {
   "cell_type": "markdown",
   "metadata": {},
   "source": [
    "--- \n",
    "### 6. A nivel implementación, ¿qué tiempo y memoria ocupa el algoritmo? (Se recomienda correr 10 veces y calcular promedio y desvío estándar de las métricas)."
   ]
  },
  {
   "cell_type": "markdown",
   "metadata": {},
   "source": [
    "Para estimar memoria y tiempo\n",
    "https://jakevdp.github.io/PythonDataScienceHandbook/01.07-timing-and-profiling.html"
   ]
  },
  {
   "cell_type": "markdown",
   "metadata": {},
   "source": [
    "----\n",
    "### 7. Si la solución óptima es $2^k - 1$ movimientos con *k* igual al número de discos. Qué tan lejos está la solución del algoritmo implementado de esta solución óptima (se recomienda correr al menos 10 veces y usar el promedio de trayecto usado). "
   ]
  },
  {
   "cell_type": "markdown",
   "metadata": {},
   "source": []
  }
 ],
 "metadata": {
  "kernelspec": {
   "display_name": "intro-ia-b_C7UNmR-py3.10",
   "language": "python",
   "name": "python3"
  },
  "language_info": {
   "codemirror_mode": {
    "name": "ipython",
    "version": 3
   },
   "file_extension": ".py",
   "mimetype": "text/x-python",
   "name": "python",
   "nbconvert_exporter": "python",
   "pygments_lexer": "ipython3",
   "version": "3.10.16"
  }
 },
 "nbformat": 4,
 "nbformat_minor": 2
}

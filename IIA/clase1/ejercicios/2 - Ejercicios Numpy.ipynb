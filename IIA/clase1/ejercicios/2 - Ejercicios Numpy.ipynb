{
 "cells": [
  {
   "cell_type": "markdown",
   "metadata": {
    "id": "e_9yLYRpF9BA"
   },
   "source": [
    "# Ejercicios de Numpy\n",
    "Inteligencia Artificial - Facundo A. Lucianna - CEIA - FIUBA\n",
    "\n",
    "A continuación veamos ejercicios de Numpy que deben resolver.\n",
    "\n",
    "Ejercicio 1: Importa a Numpy como np"
   ]
  },
  {
   "cell_type": "code",
   "execution_count": 1,
   "metadata": {
    "id": "sUTE41LjF8ie"
   },
   "outputs": [],
   "source": [
    "import numpy as np"
   ]
  },
  {
   "cell_type": "markdown",
   "metadata": {
    "id": "t1MtiumJGYhy"
   },
   "source": [
    "Ejercicio 2: Crea un array de la siguiente lista"
   ]
  },
  {
   "cell_type": "code",
   "execution_count": 2,
   "metadata": {
    "id": "gSc9alByGXzb"
   },
   "outputs": [],
   "source": [
    "lista = [1, 2, 3, 4, 5]\n",
    "\n",
    "array = np.array(lista)"
   ]
  },
  {
   "cell_type": "markdown",
   "metadata": {
    "id": "f9802oagF8LB"
   },
   "source": [
    "Ejercicio 3: Suma los siguientes dos arrays"
   ]
  },
  {
   "cell_type": "code",
   "execution_count": 3,
   "metadata": {
    "id": "_RV5GqltF5hG"
   },
   "outputs": [],
   "source": [
    "a = np.array([[1,2,3],\n",
    "              [4,5,6]])\n",
    "\n",
    "b = np.array([[10,11,12],\n",
    "              [13,14,15]])"
   ]
  },
  {
   "cell_type": "code",
   "execution_count": 4,
   "metadata": {
    "id": "7SyyK7CkGWzk"
   },
   "outputs": [
    {
     "data": {
      "text/plain": [
       "array([[11, 13, 15],\n",
       "       [17, 19, 21]])"
      ]
     },
     "execution_count": 4,
     "metadata": {},
     "output_type": "execute_result"
    }
   ],
   "source": [
    "a + b"
   ]
  },
  {
   "cell_type": "markdown",
   "metadata": {
    "id": "JMJJmKfuGhen"
   },
   "source": [
    "Ejercicio 4: Multiplica por 3.2 al siguiente array (una matriz)"
   ]
  },
  {
   "cell_type": "code",
   "execution_count": 5,
   "metadata": {
    "id": "dfS84I4FGhLK"
   },
   "outputs": [],
   "source": [
    "a = np.array([[4,2,2],\n",
    "              [4,1,0]])"
   ]
  },
  {
   "cell_type": "code",
   "execution_count": 6,
   "metadata": {},
   "outputs": [
    {
     "data": {
      "text/plain": [
       "array([[12.8,  6.4,  6.4],\n",
       "       [12.8,  3.2,  0. ]])"
      ]
     },
     "execution_count": 6,
     "metadata": {},
     "output_type": "execute_result"
    }
   ],
   "source": [
    "a * 3.2"
   ]
  },
  {
   "cell_type": "markdown",
   "metadata": {
    "id": "aqee7RrwGyx8"
   },
   "source": [
    "Ejercicio 5: Convierta en una matriz cuadrada al siguiente array unidimensional.\n",
    "\n",
    "1. Usando shape fijate que dimension tiene el array\n",
    "2. Usando .reshape() convierta al array en una matriz cuadrada\n"
   ]
  },
  {
   "cell_type": "code",
   "execution_count": 8,
   "metadata": {
    "id": "o3kCaNBOHHTX"
   },
   "outputs": [
    {
     "name": "stdout",
     "output_type": "stream",
     "text": [
      "Dimensión (9,)\n",
      "Dimensión (3, 3)\n"
     ]
    }
   ],
   "source": [
    "a = np.array([x for x in range(9)])\n",
    "\n",
    "print(\"Dimensión\", a.shape)\n",
    "\n",
    "a.reshape(3,3)\n",
    "print(\"Dimensión\", a.reshape(3,3).shape)"
   ]
  },
  {
   "cell_type": "markdown",
   "metadata": {
    "id": "DrapZG0NInQv"
   },
   "source": [
    "Ejercicio 6: Convierta el tipo del siguiente array en entero (int)"
   ]
  },
  {
   "cell_type": "code",
   "execution_count": 9,
   "metadata": {
    "id": "CK9wJUZTIlIR"
   },
   "outputs": [],
   "source": [
    "a = np.array([[2.5, 3.8, 1.5],\n",
    "              [4.7, 2.9, 1.56]])"
   ]
  },
  {
   "cell_type": "code",
   "execution_count": 10,
   "metadata": {
    "id": "dELQaeATI1e4"
   },
   "outputs": [
    {
     "data": {
      "text/plain": [
       "array([[2, 3, 1],\n",
       "       [4, 2, 1]])"
      ]
     },
     "execution_count": 10,
     "metadata": {},
     "output_type": "execute_result"
    }
   ],
   "source": [
    "a.astype(int)"
   ]
  },
  {
   "cell_type": "markdown",
   "metadata": {
    "id": "PT87pa6iIy7-"
   },
   "source": [
    "Ejercicio 7: Crea una matriz de identidad de orden 5 (usando np.eye) y luego transforma el tipo en booleano (bool)"
   ]
  },
  {
   "cell_type": "code",
   "execution_count": 11,
   "metadata": {
    "id": "3Twi1VJ9IyZW"
   },
   "outputs": [
    {
     "data": {
      "text/plain": [
       "array([[ True, False, False, False, False],\n",
       "       [False,  True, False, False, False],\n",
       "       [False, False,  True, False, False],\n",
       "       [False, False, False,  True, False],\n",
       "       [False, False, False, False,  True]])"
      ]
     },
     "execution_count": 11,
     "metadata": {},
     "output_type": "execute_result"
    }
   ],
   "source": [
    "np.eye(5).astype(bool)"
   ]
  },
  {
   "cell_type": "markdown",
   "metadata": {
    "id": "F6pxK5t9JF5v"
   },
   "source": [
    "Ejercicio 8: Cocatena de forma horizontal (una al costado de la otra) los siguientes arrays"
   ]
  },
  {
   "cell_type": "code",
   "execution_count": 12,
   "metadata": {
    "id": "1v1Bx830JFrc"
   },
   "outputs": [],
   "source": [
    "a1 = np.array([[1,2,3],\n",
    "               [4,5,6]])\n",
    "\n",
    "a2 = np.array([[7,8,9],\n",
    "               [10,11,12]])"
   ]
  },
  {
   "cell_type": "code",
   "execution_count": 14,
   "metadata": {
    "id": "n9rFcZBoJcP2"
   },
   "outputs": [
    {
     "data": {
      "text/plain": [
       "array([[ 1,  2,  3,  7,  8,  9],\n",
       "       [ 4,  5,  6, 10, 11, 12]])"
      ]
     },
     "execution_count": 14,
     "metadata": {},
     "output_type": "execute_result"
    }
   ],
   "source": [
    "np.hstack((a1, a2))"
   ]
  },
  {
   "cell_type": "markdown",
   "metadata": {
    "id": "cYAcl2ICJQok"
   },
   "source": [
    "Ejercicio 9: Cocatena de forma vertical los mismos array"
   ]
  },
  {
   "cell_type": "code",
   "execution_count": 15,
   "metadata": {
    "id": "XQjHizMeJZbi"
   },
   "outputs": [
    {
     "data": {
      "text/plain": [
       "array([[ 1,  2,  3],\n",
       "       [ 4,  5,  6],\n",
       "       [ 7,  8,  9],\n",
       "       [10, 11, 12]])"
      ]
     },
     "execution_count": 15,
     "metadata": {},
     "output_type": "execute_result"
    }
   ],
   "source": [
    "np.vstack((a1, a2))"
   ]
  },
  {
   "cell_type": "markdown",
   "metadata": {
    "id": "JC2aj9LPJc4P"
   },
   "source": [
    "Ejercicio 9: Crea un array unidimensional que tenga los numeros de 0 a 100 (incluido) con saltos de 2."
   ]
  },
  {
   "cell_type": "code",
   "execution_count": 17,
   "metadata": {
    "id": "-WnpmxL6JoR0"
   },
   "outputs": [
    {
     "data": {
      "text/plain": [
       "array([  0,   2,   4,   6,   8,  10,  12,  14,  16,  18,  20,  22,  24,\n",
       "        26,  28,  30,  32,  34,  36,  38,  40,  42,  44,  46,  48,  50,\n",
       "        52,  54,  56,  58,  60,  62,  64,  66,  68,  70,  72,  74,  76,\n",
       "        78,  80,  82,  84,  86,  88,  90,  92,  94,  96,  98, 100])"
      ]
     },
     "execution_count": 17,
     "metadata": {},
     "output_type": "execute_result"
    }
   ],
   "source": [
    "np.arange(0, 101, 2)"
   ]
  },
  {
   "cell_type": "markdown",
   "metadata": {
    "id": "iK_xk2yEJo_n"
   },
   "source": [
    "Ejercicio 10: Usando np.where() compara en que elementos el array **a** es mayor al array **b**"
   ]
  },
  {
   "cell_type": "code",
   "execution_count": 18,
   "metadata": {
    "id": "c8BRhng_Jpeo"
   },
   "outputs": [],
   "source": [
    "a = np.array([1,2,3,4,6])\n",
    "\n",
    "b = np.array([1,3,2,4,5])"
   ]
  },
  {
   "cell_type": "code",
   "execution_count": 19,
   "metadata": {
    "id": "0sniSYGIJ6Aj"
   },
   "outputs": [
    {
     "data": {
      "text/plain": [
       "(array([2, 4]),)"
      ]
     },
     "execution_count": 19,
     "metadata": {},
     "output_type": "execute_result"
    }
   ],
   "source": [
    "np.where(a > b)"
   ]
  },
  {
   "cell_type": "markdown",
   "metadata": {
    "id": "4jcNe8u1J7SY"
   },
   "source": [
    "Ejercicio 11: Genera en un array una secuencia separada de forma equidistante de 5 numeros que van de 0 a 100 (inclusive ambos)"
   ]
  },
  {
   "cell_type": "code",
   "execution_count": 20,
   "metadata": {},
   "outputs": [
    {
     "data": {
      "text/plain": [
       "array([  0.,  25.,  50.,  75., 100.])"
      ]
     },
     "execution_count": 20,
     "metadata": {},
     "output_type": "execute_result"
    }
   ],
   "source": [
    "np.linspace(0, 100, 5)"
   ]
  },
  {
   "cell_type": "markdown",
   "metadata": {
    "id": "sP6tN0hpKH4g"
   },
   "source": [
    "Ejercicio 12: Crea una matriz de 2x3 con todos los valores igual a 23 (Hint: podes usar [np.full](https://numpy.org/doc/stable/reference/generated/numpy.full.html) o [np.eye](https://numpy.org/devdocs/reference/generated/numpy.eye.html))\n"
   ]
  },
  {
   "cell_type": "code",
   "execution_count": 21,
   "metadata": {
    "id": "3-7aVWoMKWDI"
   },
   "outputs": [
    {
     "data": {
      "text/plain": [
       "array([[23, 23, 23],\n",
       "       [23, 23, 23]])"
      ]
     },
     "execution_count": 21,
     "metadata": {},
     "output_type": "execute_result"
    }
   ],
   "source": [
    "np.full((2, 3), 23)"
   ]
  },
  {
   "cell_type": "markdown",
   "metadata": {
    "id": "jTA6GgK6KWxJ"
   },
   "source": [
    "Ejercicio 13: Crea un array de 8x2 numeros aleatorios que sigan la distribucion normal (Hint: [np.random.normal](https://numpy.org/doc/stable/reference/random/generated/numpy.random.normal.html))"
   ]
  },
  {
   "cell_type": "code",
   "execution_count": 23,
   "metadata": {
    "id": "NrBM7CLoKixi"
   },
   "outputs": [
    {
     "data": {
      "text/plain": [
       "array([[ 0.98903881, -0.93665822],\n",
       "       [-1.59919087, -0.13122878],\n",
       "       [ 1.65591901,  0.26120697],\n",
       "       [ 1.12307432, -1.17190506],\n",
       "       [ 0.28240546,  0.6056058 ],\n",
       "       [-0.84155494, -0.20799891],\n",
       "       [ 0.17065144,  0.5950556 ],\n",
       "       [-0.10971409, -1.1251951 ]])"
      ]
     },
     "execution_count": 23,
     "metadata": {},
     "output_type": "execute_result"
    }
   ],
   "source": [
    "np.random.normal(0, 1, (8, 2))"
   ]
  },
  {
   "cell_type": "markdown",
   "metadata": {
    "id": "b99SuyreKjtb"
   },
   "source": [
    "Ejercicio 14: Dadas las siguientes matrices, multipliquelas como matrices. Luego multipliquelas como si fueran arrays"
   ]
  },
  {
   "cell_type": "code",
   "execution_count": 24,
   "metadata": {
    "id": "YKuJiQ4nKocj"
   },
   "outputs": [],
   "source": [
    "a = np.array([[1,2,3],\n",
    "              [4,5,6],\n",
    "              [7,8,9]])\n",
    "\n",
    "b = np.array([[2,3,4],\n",
    "              [5,6,7],\n",
    "              [8,9,10]])"
   ]
  },
  {
   "cell_type": "code",
   "execution_count": null,
   "metadata": {
    "id": "NtcDBE9kKqRC"
   },
   "outputs": [
    {
     "data": {
      "text/plain": [
       "(array([[ 36,  42,  48],\n",
       "        [ 81,  96, 111],\n",
       "        [126, 150, 174]]),\n",
       " array([[ 2,  6, 12],\n",
       "        [20, 30, 42],\n",
       "        [56, 72, 90]]))"
      ]
     },
     "execution_count": 27,
     "metadata": {},
     "output_type": "execute_result"
    }
   ],
   "source": [
    "# Multiplicar como matrices\n",
    "matrix_multiplication = np.dot(a, b)\n",
    "\n",
    "# Multiplicar como arrays\n",
    "elementwise_multiplication = a * b\n",
    "\n",
    "matrix_multiplication, elementwise_multiplication"
   ]
  },
  {
   "cell_type": "markdown",
   "metadata": {
    "id": "ZES6IGHeK2TF"
   },
   "source": [
    "Ejercicio 15: Dado el siguiente array, ordenelo de forma ascendente (Hint: [np.argsort](https://numpy.org/doc/stable/reference/generated/numpy.argsort.html)). Luego de forma descendente."
   ]
  },
  {
   "cell_type": "code",
   "execution_count": 28,
   "metadata": {
    "id": "ndyTumC9KwJJ"
   },
   "outputs": [],
   "source": [
    "a = np.array([1, 0, 82, 2, 939, 91, 1101, 199, 292, 2, 923, 387, 38, 299])"
   ]
  },
  {
   "cell_type": "code",
   "execution_count": 33,
   "metadata": {
    "id": "HzK_z4riLnsd"
   },
   "outputs": [
    {
     "data": {
      "text/plain": [
       "(array([   0,    1,    2,    2,   38,   82,   91,  199,  292,  299,  387,\n",
       "         923,  939, 1101]),\n",
       " array([1101,  939,  923,  387,  299,  292,  199,   91,   82,   38,    2,\n",
       "           2,    1,    0]))"
      ]
     },
     "execution_count": 33,
     "metadata": {},
     "output_type": "execute_result"
    }
   ],
   "source": [
    "# Ordenar de forma ascendente\n",
    "ascending_order = np.sort(a)\n",
    "\n",
    "# Ordenar de forma descendente\n",
    "descending_order = np.sort(a)[::-1]\n",
    "\n",
    "ascending_order, descending_order"
   ]
  },
  {
   "cell_type": "markdown",
   "metadata": {
    "id": "PwVvydF6SCqQ"
   },
   "source": [
    "----"
   ]
  },
  {
   "cell_type": "markdown",
   "metadata": {
    "id": "Zbf2yCCYLokv"
   },
   "source": [
    "Ejercicio 16: Lee el csv venta_libros en un array. Luego separa las columnas en 3 arrays diferentes, el primero llamado year, el segundo month, y el tercero books"
   ]
  },
  {
   "cell_type": "code",
   "execution_count": 35,
   "metadata": {},
   "outputs": [],
   "source": [
    "import pandas as pd"
   ]
  },
  {
   "cell_type": "code",
   "execution_count": 50,
   "metadata": {
    "id": "HGpomf8RNmD9"
   },
   "outputs": [
    {
     "data": {
      "text/html": [
       "<div>\n",
       "<style scoped>\n",
       "    .dataframe tbody tr th:only-of-type {\n",
       "        vertical-align: middle;\n",
       "    }\n",
       "\n",
       "    .dataframe tbody tr th {\n",
       "        vertical-align: top;\n",
       "    }\n",
       "\n",
       "    .dataframe thead th {\n",
       "        text-align: right;\n",
       "    }\n",
       "</style>\n",
       "<table border=\"1\" class=\"dataframe\">\n",
       "  <thead>\n",
       "    <tr style=\"text-align: right;\">\n",
       "      <th></th>\n",
       "      <th>0</th>\n",
       "      <th>1</th>\n",
       "      <th>2</th>\n",
       "    </tr>\n",
       "  </thead>\n",
       "  <tbody>\n",
       "    <tr>\n",
       "      <th>0</th>\n",
       "      <td>2019</td>\n",
       "      <td>1</td>\n",
       "      <td>106</td>\n",
       "    </tr>\n",
       "    <tr>\n",
       "      <th>1</th>\n",
       "      <td>2019</td>\n",
       "      <td>2</td>\n",
       "      <td>400</td>\n",
       "    </tr>\n",
       "    <tr>\n",
       "      <th>2</th>\n",
       "      <td>2019</td>\n",
       "      <td>3</td>\n",
       "      <td>339</td>\n",
       "    </tr>\n",
       "    <tr>\n",
       "      <th>3</th>\n",
       "      <td>2019</td>\n",
       "      <td>4</td>\n",
       "      <td>389</td>\n",
       "    </tr>\n",
       "    <tr>\n",
       "      <th>4</th>\n",
       "      <td>2019</td>\n",
       "      <td>5</td>\n",
       "      <td>141</td>\n",
       "    </tr>\n",
       "  </tbody>\n",
       "</table>\n",
       "</div>"
      ],
      "text/plain": [
       "      0  1    2\n",
       "0  2019  1  106\n",
       "1  2019  2  400\n",
       "2  2019  3  339\n",
       "3  2019  4  389\n",
       "4  2019  5  141"
      ]
     },
     "execution_count": 50,
     "metadata": {},
     "output_type": "execute_result"
    }
   ],
   "source": [
    "df = pd.read_csv(\"datasets/venta_libros.csv\", header=None)\n",
    "df.head()"
   ]
  },
  {
   "cell_type": "code",
   "execution_count": 51,
   "metadata": {
    "id": "zGKqLifdNnF1"
   },
   "outputs": [],
   "source": [
    "year = np.array(df[0])\n",
    "month = np.array(df[1])\n",
    "books = np.array(df[2])"
   ]
  },
  {
   "cell_type": "markdown",
   "metadata": {
    "id": "a5JHu4CbNpCK"
   },
   "source": [
    "Usando np.max() obtenga el valor de ventas de libros más alto. Luego, busque a que mes y años corresponde"
   ]
  },
  {
   "cell_type": "code",
   "execution_count": 53,
   "metadata": {},
   "outputs": [
    {
     "data": {
      "text/plain": [
       "(489, 2021, 8)"
      ]
     },
     "execution_count": 53,
     "metadata": {},
     "output_type": "execute_result"
    }
   ],
   "source": [
    "max_books = np.max(books)\n",
    "max_books_index = np.argmax(books)\n",
    "max_books_year = year[max_books_index]\n",
    "max_books_month = month[max_books_index]\n",
    "\n",
    "max_books, max_books_year, max_books_month"
   ]
  },
  {
   "cell_type": "markdown",
   "metadata": {
    "id": "0d1ViVGTRVAD"
   },
   "source": [
    "Calcula las ventas totales, las ventas promedio, la mediana de las ventas y el desvio estandar (Hint: [np.sum](https://numpy.org/doc/stable/reference/generated/numpy.sum.html), [np.mean](https://numpy.org/doc/stable/reference/generated/numpy.mean.html), [np.median](https://numpy.org/doc/stable/reference/generated/numpy.median.html), [np.std](https://numpy.org/doc/stable/reference/generated/numpy.std.html))"
   ]
  },
  {
   "cell_type": "code",
   "execution_count": 56,
   "metadata": {
    "id": "UpqqRc5zRRZr"
   },
   "outputs": [
    {
     "name": "stdout",
     "output_type": "stream",
     "text": [
      "Suma:  12542\n",
      "Media:  261.2916666666667\n",
      "Mediana:  267.0\n",
      "Desviación estándar:  136.60770450657444\n"
     ]
    }
   ],
   "source": [
    "print('Suma: ', np.sum(books))\n",
    "print('Media: ', np.mean(books))\n",
    "print('Mediana: ', np.median(books))\n",
    "print('Desviación estándar: ', np.std(books))"
   ]
  }
 ],
 "metadata": {
  "colab": {
   "authorship_tag": "ABX9TyOy12cJEqDJrsnQOoRjNNSW",
   "provenance": []
  },
  "kernelspec": {
   "display_name": "intro-ia-b_C7UNmR-py3.10",
   "language": "python",
   "name": "python3"
  },
  "language_info": {
   "codemirror_mode": {
    "name": "ipython",
    "version": 3
   },
   "file_extension": ".py",
   "mimetype": "text/x-python",
   "name": "python",
   "nbconvert_exporter": "python",
   "pygments_lexer": "ipython3",
   "version": "3.10.16"
  }
 },
 "nbformat": 4,
 "nbformat_minor": 0
}

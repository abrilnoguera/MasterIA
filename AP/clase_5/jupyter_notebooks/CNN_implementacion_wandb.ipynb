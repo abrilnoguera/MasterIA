{
  "cells": [
    {
      "cell_type": "markdown",
      "metadata": {
        "id": "_wIQ8hjDpdVi"
      },
      "source": [
        "## Importar lo necesario y establecemos la configuracines necesarias"
      ]
    },
    {
      "cell_type": "code",
      "execution_count": 86,
      "metadata": {
        "id": "uHQUjDs12DLW"
      },
      "outputs": [],
      "source": [
        "import torch # pytorch\n",
        "import torchvision # para cargar datasets y transformaciones\n",
        "import random # para generar numeros aleatorios y probar nuetro modelo entrenado (buscando aleatoriamente ejemplos)\n",
        "import matplotlib.pyplot as plt # para graficar\n",
        "from tqdm import tqdm # para graficar la barra de avance\n",
        "import wandb # hacer log en whights and bias\n",
        "from torch.optim.lr_scheduler import ExponentialLR, CosineAnnealingWarmRestarts # modificar LR conforme se entrena"
      ]
    },
    {
      "cell_type": "code",
      "execution_count": 87,
      "metadata": {
        "colab": {
          "base_uri": "https://localhost:8080/"
        },
        "id": "biK7BQSsgEM0",
        "outputId": "ad75b842-42b3-4813-c3db-15ad4d28e03a"
      },
      "outputs": [
        {
          "name": "stdout",
          "output_type": "stream",
          "text": [
            "Requirement already satisfied: torchinfo in c:\\uba\\uba_venv\\uba_venv\\lib\\site-packages (1.8.0)\n"
          ]
        },
        {
          "name": "stderr",
          "output_type": "stream",
          "text": [
            "\n",
            "[notice] A new release of pip is available: 24.2 -> 25.1.1\n",
            "[notice] To update, run: python.exe -m pip install --upgrade pip\n"
          ]
        }
      ],
      "source": [
        "# instalar torchinfo para ver el modelo y sus parametros\n",
        "!pip install torchinfo\n",
        "import torchinfo as torchinfo"
      ]
    },
    {
      "cell_type": "markdown",
      "metadata": {
        "id": "QeJy8fjPn4wi"
      },
      "source": [
        "### configuramos el `device` acorde al device disponible\n",
        "\n",
        "\n"
      ]
    },
    {
      "cell_type": "code",
      "execution_count": 3,
      "metadata": {
        "colab": {
          "base_uri": "https://localhost:8080/",
          "height": 35
        },
        "id": "lOV9xybtn4I3",
        "outputId": "64b1e4d6-da1d-4eb2-995b-1c7f38342ae3"
      },
      "outputs": [
        {
          "data": {
            "text/plain": [
              "'cuda'"
            ]
          },
          "execution_count": 3,
          "metadata": {},
          "output_type": "execute_result"
        }
      ],
      "source": [
        "device = \"cuda\" if torch.cuda.is_available() else \"cpu\"\n",
        "device"
      ]
    },
    {
      "cell_type": "markdown",
      "metadata": {
        "id": "IROzIJYLho4P"
      },
      "source": [
        "### nos vinculamos al weights and biases"
      ]
    },
    {
      "cell_type": "code",
      "execution_count": 4,
      "metadata": {
        "colab": {
          "base_uri": "https://localhost:8080/"
        },
        "id": "LjEyZuHV97Iw",
        "outputId": "4af6bdd5-3114-42ec-af6e-9768b027d792"
      },
      "outputs": [
        {
          "name": "stderr",
          "output_type": "stream",
          "text": [
            "\u001b[34m\u001b[1mwandb\u001b[0m: Using wandb-core as the SDK backend.  Please refer to https://wandb.me/wandb-core for more information.\n",
            "\u001b[34m\u001b[1mwandb\u001b[0m: \u001b[33mWARNING\u001b[0m If you're specifying your api key in code, ensure this code is not shared publicly.\n",
            "\u001b[34m\u001b[1mwandb\u001b[0m: \u001b[33mWARNING\u001b[0m Consider setting the WANDB_API_KEY environment variable, or running `wandb login` from the command line.\n",
            "\u001b[34m\u001b[1mwandb\u001b[0m: Appending key for api.wandb.ai to your netrc file: C:\\Users\\CIDIEE_NN\\.netrc\n",
            "\u001b[34m\u001b[1mwandb\u001b[0m: Currently logged in as: \u001b[33mlelectronfou\u001b[0m (\u001b[33mmmaillot\u001b[0m) to \u001b[32mhttps://api.wandb.ai\u001b[0m. Use \u001b[1m`wandb login --relogin`\u001b[0m to force relogin\n"
          ]
        },
        {
          "data": {
            "text/plain": [
              "True"
            ]
          },
          "execution_count": 4,
          "metadata": {},
          "output_type": "execute_result"
        }
      ],
      "source": [
        "# key de Marcos Uriel Maillot (lelectronfou@gmail.com), cámbiela a su usario una vez finalizada la clase.\n",
        "wandb.login(key=\"d63a15806a812590a5525d000eed0e6d6c57a023\")"
      ]
    },
    {
      "cell_type": "markdown",
      "metadata": {
        "id": "3_tH9u082jpZ"
      },
      "source": [
        "\n",
        "\n",
        "## Ejemplo de red neuronal de convolución (CNN)\n",
        "**MNIST data base**\n",
        "Vamos a usar la base de datos de MNIST ([ver fuente](http://yann.lecun.com/exdb/mnist/)) para entrenar una CNN que identifique números escritos a mano.\n",
        "\n",
        "Para esto necesitamos:\n",
        "\n",
        "\n",
        "1.   Cargar la base de datos.\n",
        "2.   Ver que la base de datos esté ok.\n",
        "3.   Construir nuestra CNN.\n",
        "4. Ver que las dimensiones de la red sean consistentes.\n",
        "4.   Definir funciones necesarias (de entrenamiento, de costo, etc.).\n",
        "5. Entrenar la red.\n",
        "6. Ver que funcione.\n",
        "\n",
        "\n",
        "\n",
        "\n"
      ]
    },
    {
      "cell_type": "markdown",
      "metadata": {
        "id": "1nQ-MLk6Do8e"
      },
      "source": [
        "## 1. Cargar base de datos\n",
        "\n",
        "De la documentación, ver:\n",
        "\n",
        "\n",
        "Transformación `torchvision.transforms.ToTensor()`\n",
        "\n",
        "```\n",
        "... Converts a PIL Image or numpy.ndarray (H x W x C) in the range [0, 255] to a torch.FloatTensor of shape (C x H x W) in the range [0.0, 1.0]...\n",
        "```\n",
        "\n",
        "Transformación `Normalize`\n",
        "\n",
        "```\n",
        "... Normalize a tensor image with mean and standard deviation. ...\n",
        "```"
      ]
    },
    {
      "cell_type": "code",
      "execution_count": 8,
      "metadata": {
        "colab": {
          "base_uri": "https://localhost:8080/"
        },
        "id": "8JvzatGF4e0W",
        "outputId": "e0ac94b7-1f7e-4db8-c679-943abe6176e7"
      },
      "outputs": [],
      "source": [
        "# definimos un conjunto de transformaciones para el dataset MNIST\n",
        "# (pasamos de imagenes de 28x28 a tensores, normalizamos, etc.)\n",
        "tranformaciones = torchvision.transforms.Compose([\n",
        "                            torchvision.transforms.ToTensor(),#<---------------- escala entre 0 y 1; pasa a tensor; poner canal en 1ra dim\n",
        "                            torchvision.transforms.Normalize((0.1307,), (0.3081,))#<----------------- normaliza el dataset; media y desviación estándar de los datos\n",
        "                            ])\n",
        "\n",
        "\n",
        "# creamos el dataset (para cargar los datos a procesar) MNIST de entrenamiento y test\n",
        "# (descargamos los datos si no están en la carpeta ../data)\n",
        "train_dataset = torchvision.datasets.MNIST('../data', train=True, download=True,\n",
        "                       transform=tranformaciones\n",
        "                      )\n",
        "\n",
        "test_dataset = torchvision.datasets.MNIST('../data', train=False,\n",
        "                   transform=tranformaciones\n",
        "                     )\n",
        "\n",
        "## aquí puede practicar por fuera de la clase, empleando otros datasets de torchvision.datasets, como CIFAR10, FashionMNIST, etc.\n",
        "# para eso debe cargar el dataset deseado, por ejemplo:\n",
        "# FASHIONMNIST, CIFAR10, etc. (ver https://pytorch.org/vision/stable/datasets.html)\n",
        "\n",
        "# si desea trabajar con FashionMNIST, puede usar el siguiente código (descomentar):\n",
        "# train_dataset = torchvision.datasets.FashionMNIST('../data', train=True, download=True, transform=tranformaciones)\n",
        "# test_dataset = torchvision.datasets.FashionMNIST('../data', train=False, download=True, transform=tranformaciones)\n",
        "\n",
        "# o si desea trabajar con CIFAR10, puede usar el siguiente código (descomentar):\n",
        "# train_dataset = torchvision.datasets.CIFAR10('../data', train=True, download=True, transform=tranformaciones)\n",
        "# test_dataset = torchvision.datasets.CIFAR10('../data', train=False, download=True, transform=tranformaciones)\n",
        "# \n",
        "# cuando corra estos otros datasets, recuerde que las transformaciones deben ser las adecuadas para cada dataset\n",
        "# y que su arquitectura de red debe ser acorde a las dimensiones de las imágenes y al número de clases del dataset.\n",
        "\n",
        "# ahora creamos el dataloader (recordar, dataloader -> una herramienta para hacer batches de datasets)\n",
        "dataloader = {\n",
        "    'train': torch.utils.data.DataLoader(train_dataset, batch_size=64, shuffle=True, pin_memory=True),\n",
        "    'test': torch.utils.data.DataLoader(test_dataset, batch_size=64, shuffle=False, pin_memory=True)\n",
        "}"
      ]
    },
    {
      "cell_type": "markdown",
      "metadata": {
        "id": "oikthAE4Dteb"
      },
      "source": [
        "## 2. Ver que la base de datos esté OK"
      ]
    },
    {
      "cell_type": "code",
      "execution_count": 9,
      "metadata": {
        "colab": {
          "base_uri": "https://localhost:8080/"
        },
        "id": "cyq2UFIl-Qjy",
        "outputId": "152c7595-f36c-4b31-dd0a-ca66a29f6b33"
      },
      "outputs": [
        {
          "name": "stdout",
          "output_type": "stream",
          "text": [
            "<class 'dict'>\n",
            "<class 'torch.utils.data.dataloader.DataLoader'>\n"
          ]
        }
      ],
      "source": [
        "print(type(dataloader))\n",
        "print(type(dataloader['train']))"
      ]
    },
    {
      "cell_type": "code",
      "execution_count": 10,
      "metadata": {
        "id": "3dVPXQRch4xV"
      },
      "outputs": [],
      "source": [
        "# Ver imagen and label del dataloader \n",
        "train_features, train_labels = next(iter(dataloader['train']))"
      ]
    },
    {
      "cell_type": "code",
      "execution_count": 11,
      "metadata": {
        "colab": {
          "base_uri": "https://localhost:8080/"
        },
        "id": "p2fs6Qdivs1H",
        "outputId": "ef2ff95f-4a5b-424b-ede1-8d23bb9453ab"
      },
      "outputs": [
        {
          "name": "stdout",
          "output_type": "stream",
          "text": [
            "Tamaño del batch de feature (input / imagen): torch.Size([64, 1, 28, 28])\n",
            "Tamaño del batch del label (clase / etiqueta): torch.Size([64])\n"
          ]
        }
      ],
      "source": [
        "# verifico sus dimensiones\n",
        "print(f\"Tamaño del batch de feature (input / imagen): {train_features.size()}\")\n",
        "print(f\"Tamaño del batch del label (clase / etiqueta): {train_labels.size()}\")\n"
      ]
    },
    {
      "cell_type": "code",
      "execution_count": null,
      "metadata": {
        "colab": {
          "base_uri": "https://localhost:8080/",
          "height": 483
        },
        "id": "rfK_dXQdI2C6",
        "outputId": "c9f7f094-60b9-4a5b-a8cc-3abb337f33a8"
      },
      "outputs": [
        {
          "name": "stdout",
          "output_type": "stream",
          "text": [
            "tamaño de 1 imagen:  torch.Size([1, 28, 28])\n",
            "tamaño de 1 imagen DESPUES de squeeze:  torch.Size([28, 28])\n"
          ]
        },
        {
          "data": {
            "image/png": "[encoded data removed]",
            "text/plain": [
              "<Figure size 640x480 with 1 Axes>"
            ]
          },
          "metadata": {},
          "output_type": "display_data"
        },
        {
          "name": "stdout",
          "output_type": "stream",
          "text": [
            "Label: 8\n"
          ]
        }
      ],
      "source": [
        "# tomo 1 imagen para poder visualizarla\n",
        "# y verifico sus dimensiones\n",
        "\n",
        "img = train_features[5]\n",
        "print('tamaño de 1 imagen: ', img.shape)\n",
        "# le QUITO 1 dimension (la del tamaño del batch) para poder graficar\n",
        "img = img.squeeze()\n",
        "print('tamaño de 1 imagen DESPUES de squeeze: ', img.shape)\n",
        "label = train_labels[5]\n",
        "\n",
        "# ploteo esa imagen\n",
        "plt.imshow(img, cmap=\"gray\")\n",
        "plt.show()\n",
        "print(f\"Label: {label}\")"
      ]
    },
    {
      "cell_type": "code",
      "execution_count": 13,
      "metadata": {
        "colab": {
          "base_uri": "https://localhost:8080/"
        },
        "id": "vFnOkkTgYTHV",
        "outputId": "972b1b92-8aab-479d-f99b-74fdac04d43a"
      },
      "outputs": [
        {
          "name": "stdout",
          "output_type": "stream",
          "text": [
            "pixel [0,0]:  tensor(-0.4242)\n",
            "pixel maximo:  tensor(2.8215)\n",
            "pixel minimo:  tensor(-0.4242)\n"
          ]
        }
      ],
      "source": [
        "print('pixel [0,0]: ',img[0][0])\n",
        "print('pixel maximo: ', torch.max(img))\n",
        "print('pixel minimo: ', torch.min(img))"
      ]
    },
    {
      "cell_type": "markdown",
      "metadata": {
        "id": "hLDYgFptiqPd"
      },
      "source": [
        "## 3. Construyo mi CNN"
      ]
    },
    {
      "cell_type": "markdown",
      "metadata": {
        "id": "EY0TN4erDxRd"
      },
      "source": [
        "#### Bloque de convolución\n",
        "\n",
        "defino primero un \"bloque\" de una capa CNN\n",
        "construido con los bloques funcionales vistos en clase\n",
        "\n",
        "argumentos a pasar a la función:\n",
        "\n",
        "  - `c_in`:   canales (kernels) de entrada\n",
        "  - `c_out`:  canales (kernels) de salida\n",
        "  - `k`:      tamaño del kernel kxk\n",
        "  - `p`:      tamaño del padding de la convolución\n",
        "  - `s`:      stride de la convolución\n",
        "  - `pk`:     tamaño del kernel del pooling\n",
        "\n",
        "\n",
        "la función pooling se elige directamente dentro del bloque!"
      ]
    },
    {
      "cell_type": "code",
      "execution_count": 17,
      "metadata": {
        "id": "qMxa2DAsim9t"
      },
      "outputs": [],
      "source": [
        "# bloque de convolución para emplear en mi red\n",
        "# esta función la utilizaré en la clase del a CNN\n",
        "\n",
        "def conv_block(c_in, c_out, k=3, p='same', s=1, pk=2):        \n",
        "    return torch.nn.Sequential(                               # el módulo Sequential se engarga de hacer el forward de todo lo que tiene dentro.\n",
        "        torch.nn.Conv2d(c_in, c_out, k, padding=p, stride=s), # conv\n",
        "        torch.nn.Tanh(),                                      # activation\n",
        "        torch.nn.MaxPool2d(pk)                                # pooling\n",
        "    )\n"
      ]
    },
    {
      "cell_type": "markdown",
      "metadata": {
        "id": "PgPfrY8VivH8"
      },
      "source": [
        "### Red convolucional (modelo)\n",
        "\n",
        "\n",
        "Ahora SI construyo mi red... usando la clase CNN de pytorch\n",
        "revisar muy bien las dimensiones a emplear en cada capa y\n",
        "tener presente la reducción de las dimensiones.\n",
        "\n",
        "En la útlima capa fully conected `fc`, hacer bien el cálculo final del\n",
        "tamaño del array que se obtiene siguiendo la formula vista en la teoria\n",
        "tanto para la capa conv como para la capa pooling."
      ]
    },
    {
      "cell_type": "code",
      "execution_count": null,
      "metadata": {
        "id": "JrO5gfEL3KRC"
      },
      "outputs": [],
      "source": [
        "class CNN(torch.nn.Module):\n",
        "  def __init__(self, n_channels=1, n_outputs=10):\n",
        "    super().__init__()\n",
        "    # aquí defino la arquitectura de mi red convolucional\n",
        "    self.conv1 = conv_block(c_in = n_channels, c_out = 16, k=9, p='same', s=1, pk=2)\n",
        "    self.conv1_out = None\n",
        "    self.drop = torch.nn.Dropout2d(p=0.7, inplace=False)\n",
        "    self.conv2 = conv_block(c_in = 16, c_out = 16, k=9, p='same', s=1, pk=2)\n",
        "    self.conv2_out = None\n",
        "    self.conv3 = conv_block(c_in = 16, c_out = 16, k=9, p='same', s=1, pk=2)\n",
        "    self.fc = torch.nn.Linear(16*3*3, n_outputs) # verificar la dim de la salida para calcular el tamaño de la fully conected!!\n",
        "\n",
        "    # aquí imprimo la arquitectura de la red y el número de parámetros entrenables\n",
        "    print('----------------------------------')\n",
        "    print('Red creada')\n",
        "    print('arquitectura:')\n",
        "    print(self)\n",
        "\n",
        "    # Me fijo en el número de capas\n",
        "    i=0\n",
        "    for layer in self.children():\n",
        "        i=i+1\n",
        "    print('----------------------------------')\n",
        "    print('Número total de capas de CNN (conv+act+polling) + finales : ', i)\n",
        "\n",
        "    # Me fijo en el número de parámetros entrenables\n",
        "    pytorch_total_params = sum(p.numel() for p in self.parameters() if p.requires_grad)\n",
        "    print('----------------------------------')\n",
        "    print('Número total de parámetros a entrenar: ', pytorch_total_params)\n",
        "    print('----------------------------------')\n",
        "\n",
        "  # aquí defino el método forward, que es el que se ejecuta cuando llamo a la red con un input\n",
        "  def forward(self, x):\n",
        "    #print('input shape: ', x.shape)\n",
        "    self.conv1_out = self.drop(self.conv1(x))\n",
        "    self.conv2_out = self.drop(self.conv2(self.conv1_out))\n",
        "    self.conv3_out = self.conv3(self.conv2_out)\n",
        "    y = self.conv3_out\n",
        "    y = y.flatten(start_dim=1)\n",
        "    #print(y.shape)\n",
        "    y = self.fc(y)\n",
        "    return y\n"
      ]
    },
    {
      "cell_type": "code",
      "execution_count": 27,
      "metadata": {
        "colab": {
          "base_uri": "https://localhost:8080/"
        },
        "id": "cb6DoGaP31md",
        "outputId": "92b13b78-5769-430d-e484-57e59c0f6b1a"
      },
      "outputs": [
        {
          "name": "stdout",
          "output_type": "stream",
          "text": [
            "----------------------------------\n",
            "Red creada\n",
            "arquitectura:\n",
            "CNN(\n",
            "  (conv1): Sequential(\n",
            "    (0): Conv2d(1, 16, kernel_size=(9, 9), stride=(1, 1), padding=same)\n",
            "    (1): Tanh()\n",
            "    (2): MaxPool2d(kernel_size=2, stride=2, padding=0, dilation=1, ceil_mode=False)\n",
            "  )\n",
            "  (drop): Dropout2d(p=0.7, inplace=False)\n",
            "  (conv2): Sequential(\n",
            "    (0): Conv2d(16, 16, kernel_size=(9, 9), stride=(1, 1), padding=same)\n",
            "    (1): Tanh()\n",
            "    (2): MaxPool2d(kernel_size=2, stride=2, padding=0, dilation=1, ceil_mode=False)\n",
            "  )\n",
            "  (conv3): Sequential(\n",
            "    (0): Conv2d(16, 16, kernel_size=(9, 9), stride=(1, 1), padding=same)\n",
            "    (1): Tanh()\n",
            "    (2): MaxPool2d(kernel_size=2, stride=2, padding=0, dilation=1, ceil_mode=False)\n",
            "  )\n",
            "  (fc): Linear(in_features=144, out_features=10, bias=True)\n",
            ")\n",
            "----------------------------------\n",
            "Número total de capas de CNN (conv+act+polling) + finales :  5\n",
            "----------------------------------\n",
            "Número total de parámetros a entrenar:  44266\n"
          ]
        }
      ],
      "source": [
        "# instancio modelo\n",
        "model = CNN()\n",
        "\n",
        "# armo config\n",
        "# OJO!! NO ESTÁ AUTOMATIZADO!\n",
        "# lo hago así para que tomen práctica sobre donde modificar en el código los \n",
        "# hyperparámetros de la red y el entrenamiento.\n",
        "model_config = {\n",
        "        \"num_layers\": 5,\n",
        "        \"kernel_size\": 9,\n",
        "        \"dropout\": 0.7,\n",
        "        \"n_channels\": [16, 16, 16],\n",
        "        \"architecture\": model.__class__.__name__\n",
        "  }\n"
      ]
    },
    {
      "cell_type": "code",
      "execution_count": 28,
      "metadata": {
        "colab": {
          "base_uri": "https://localhost:8080/"
        },
        "id": "oYgRNa9M8cjI",
        "outputId": "421b44dd-c7f6-4d28-b6d5-6137942eeb1d"
      },
      "outputs": [
        {
          "data": {
            "text/plain": [
              "{'num_layers': 5,\n",
              " 'kernel_size': 9,\n",
              " 'dropout': 0.7,\n",
              " 'n_channels': [16, 16, 16],\n",
              " 'architecture': 'CNN'}"
            ]
          },
          "execution_count": 28,
          "metadata": {},
          "output_type": "execute_result"
        }
      ],
      "source": [
        "model_config"
      ]
    },
    {
      "cell_type": "markdown",
      "metadata": {
        "id": "Z4tEn-XqHVZ7"
      },
      "source": [
        "## 4. Veamos que las dimensiones sean consistentes."
      ]
    },
    {
      "cell_type": "code",
      "execution_count": 29,
      "metadata": {
        "colab": {
          "base_uri": "https://localhost:8080/"
        },
        "id": "q44d3Ftwokla",
        "outputId": "d3456984-d520-4aac-eafe-b3df5981b1a2"
      },
      "outputs": [
        {
          "data": {
            "text/plain": [
              "==========================================================================================\n",
              "Layer (type:depth-idx)                   Output Shape              Param #\n",
              "==========================================================================================\n",
              "CNN                                      [12, 10]                  --\n",
              "├─Sequential: 1-1                        [12, 16, 14, 14]          --\n",
              "│    └─Conv2d: 2-1                       [12, 16, 28, 28]          1,312\n",
              "│    └─Tanh: 2-2                         [12, 16, 28, 28]          --\n",
              "│    └─MaxPool2d: 2-3                    [12, 16, 14, 14]          --\n",
              "├─Dropout2d: 1-2                         [12, 16, 14, 14]          --\n",
              "├─Sequential: 1-3                        [12, 16, 7, 7]            --\n",
              "│    └─Conv2d: 2-4                       [12, 16, 14, 14]          20,752\n",
              "│    └─Tanh: 2-5                         [12, 16, 14, 14]          --\n",
              "│    └─MaxPool2d: 2-6                    [12, 16, 7, 7]            --\n",
              "├─Dropout2d: 1-4                         [12, 16, 7, 7]            --\n",
              "├─Sequential: 1-5                        [12, 16, 3, 3]            --\n",
              "│    └─Conv2d: 2-7                       [12, 16, 7, 7]            20,752\n",
              "│    └─Tanh: 2-8                         [12, 16, 7, 7]            --\n",
              "│    └─MaxPool2d: 2-9                    [12, 16, 3, 3]            --\n",
              "├─Linear: 1-6                            [12, 10]                  1,450\n",
              "==========================================================================================\n",
              "Total params: 44,266\n",
              "Trainable params: 44,266\n",
              "Non-trainable params: 0\n",
              "Total mult-adds (M): 73.37\n",
              "==========================================================================================\n",
              "Input size (MB): 0.04\n",
              "Forward/backward pass size (MB): 1.58\n",
              "Params size (MB): 0.18\n",
              "Estimated Total Size (MB): 1.80\n",
              "=========================================================================================="
            ]
          },
          "execution_count": 29,
          "metadata": {},
          "output_type": "execute_result"
        }
      ],
      "source": [
        "# corremos el resumen de la red para ver los parámetros y tamaños intermedios\n",
        "# es necesario pasarle el tamaño de la entrada, que en este caso es (batch_size, n_channels, height, width)\n",
        "torchinfo.summary(model, input_size=( 12, 1, 28, 28))"
      ]
    },
    {
      "cell_type": "markdown",
      "metadata": {
        "id": "eoB3GvDtGUgY"
      },
      "source": [
        "## 5. Armo las funciones necesarias"
      ]
    },
    {
      "cell_type": "code",
      "execution_count": 38,
      "metadata": {},
      "outputs": [],
      "source": [
        "# definimo optimizer y la función de pérdida\n",
        "optimizer = torch.optim.Adam(model.parameters(), lr=1e-4)\n",
        "#optimizer = torch.optim.AdamW(model.parameters(), lr=1e-3, weight_decay=1e-2)\n",
        "\n",
        "# paso al config el optimizador\n",
        "model_config[\"optimizer\"] = optimizer.__class__.__name__\n",
        "# defino función de perdida\n",
        "loss_fn = torch.nn.CrossEntropyLoss()\n",
        "\n",
        "\n",
        "# Scheduler\n",
        "scheduler_type = \"step\"\n",
        "steps_per_epoch = len(dataloader['train'])\n",
        "scheduler = CosineAnnealingWarmRestarts(optimizer, T_0=steps_per_epoch, T_mult=2, eta_min=1e-5)\n",
        "#scheduler = optim.lr_scheduler.CyclicLR(optimizer, base_lr=1e-5, max_lr=1e-2, step_size_up=steps_per_epoch, mode=\"triangular2\")\n",
        "\n",
        "## Si queremos aplicar cambios al learning rate al final de cada epoch, usamos como ejemplo otro como este:\n",
        "#scheduler_type = \"epoch\"\n",
        "#scheduler = ExponentialLR(optimizer, gamma=0.99) # https://pytorch.org/docs/stable/optim.html#how-to-adjust-learning-rate\n"
      ]
    },
    {
      "cell_type": "code",
      "execution_count": null,
      "metadata": {
        "id": "9w-WYfZd-Yvc"
      },
      "outputs": [],
      "source": [
        "# armamos una función para entrenar el modelo con logeo de Weights & Biases (wandb)\n",
        "# a esta función hay que pasarle el modelo, el optimizador, los dataloaders de entrenamiento y evaluación, \n",
        "# la función de pérdida, el config y otros parámetros de configuración.\n",
        "\n",
        "def train_model_wandb(\n",
        "        model,\n",
        "        optimizer,\n",
        "        train_loader,\n",
        "        eval_loader,\n",
        "        loss_module,\n",
        "        config = model_config,\n",
        "        scheduler_type=\"step\",\n",
        "        patience=3,\n",
        "        patience_factor=0.01,\n",
        "        num_epochs=3,\n",
        "        scheduler = scheduler\n",
        "):\n",
        "    # Initialize Weights & Biases\n",
        "    # el nombre del proyecto es \"CEIA-Co[NUMERO_DE_COHORTE]\", y el config es el que armamos antes\n",
        "    # para que quede guardado en el log de wandb y podamos conocer los hyperparámetros empleados \n",
        "    # en ese entrenamiento\n",
        "    wandb.init(project=\"CEIA-Co19-CNN-mnist\", config=config)\n",
        "\n",
        "    ## Set device\n",
        "    model.to(device)\n",
        "\n",
        "    # Set metric for callbacks\n",
        "    best_eval = 0\n",
        "    pt_epoch = 0\n",
        "\n",
        "    for epoch in tqdm(range(num_epochs), desc=\"Epoch Progress\"):\n",
        "        ### Training Phase ###\n",
        "        model.train()\n",
        "        train_loss = 0.0\n",
        "        train_correct = 0\n",
        "        train_samples = 0\n",
        "\n",
        "        for batch_idx, data in enumerate(train_loader):\n",
        "\n",
        "            X, y = data\n",
        "            # Move input data to device (if using GPU)\n",
        "            data_inputs = X.to(device)\n",
        "            data_labels = y.to(device)\n",
        "\n",
        "            # Forward pass\n",
        "            preds = model(data_inputs)\n",
        "            preds = preds.squeeze(dim=1)  # Ensure shape consistency\n",
        "\n",
        "            # Compute loss\n",
        "            loss = loss_module(preds, data_labels)\n",
        "\n",
        "            # Zero gradients, backpropagate, and update weights\n",
        "            optimizer.zero_grad()\n",
        "            loss.backward()\n",
        "            optimizer.step()\n",
        "\n",
        "            # Track loss for this batch\n",
        "            batch_loss = loss.item()\n",
        "            train_loss += batch_loss\n",
        "\n",
        "            # Compute accuracy (assuming classification task)\n",
        "            if preds.ndim == 2:  # Softmax case\n",
        "                preds_classes = preds.argmax(dim=1)\n",
        "            else:  # Sigmoid case (binary classification)\n",
        "                preds_classes = (preds > 0.5).long()\n",
        "\n",
        "            train_correct += (preds_classes == data_labels).sum().item()\n",
        "            train_samples += data_labels.size(0)\n",
        "\n",
        "            # Log batch-wise metrics\n",
        "            wandb.log({\n",
        "                \"batch_loss\": batch_loss,\n",
        "                \"batch_step\": epoch * len(train_loader) + batch_idx,\n",
        "                \"batch_lr\": optimizer.param_groups[0]['lr'],\n",
        "            })\n",
        "\n",
        "            # Step-level callback\n",
        "            if scheduler_type==\"step\":\n",
        "                scheduler.step()\n",
        "\n",
        "        # Compute training metrics\n",
        "        train_loss /= len(train_loader)\n",
        "        train_accuracy = train_correct / train_samples\n",
        "\n",
        "        ### Evaluation Phase ###\n",
        "        model.eval()\n",
        "        eval_loss = 0.0\n",
        "        eval_correct = 0\n",
        "        eval_samples = 0\n",
        "\n",
        "        with torch.no_grad():  # Disable gradient tracking\n",
        "            for data in eval_loader:\n",
        "\n",
        "                X, y = data\n",
        "                data_inputs = X.to(device)\n",
        "                data_labels = y.to(device)\n",
        "\n",
        "                preds = model(data_inputs)\n",
        "                preds = preds.squeeze(dim=1)\n",
        "\n",
        "                loss = loss_module(preds, data_labels)\n",
        "                eval_loss += loss.item()\n",
        "\n",
        "                if preds.ndim == 2:\n",
        "                    preds_classes = preds.argmax(dim=1)\n",
        "                else:\n",
        "                    preds_classes = (preds > 0.5).long()\n",
        "\n",
        "                eval_correct += (preds_classes == data_labels).sum().item()\n",
        "                eval_samples += data_labels.size(0)\n",
        "\n",
        "        # Compute evaluation metrics\n",
        "        eval_loss /= len(eval_loader)\n",
        "        eval_accuracy = eval_correct / eval_samples\n",
        "\n",
        "        # Log epoch-level metrics\n",
        "        wandb.log({\n",
        "            \"epoch\": epoch,\n",
        "            \"train_loss\": train_loss,\n",
        "            \"train_accuracy\": train_accuracy,\n",
        "            \"eval_loss\": eval_loss,\n",
        "            \"eval_accuracy\": eval_accuracy,\n",
        "            \"learning_rate\": optimizer.param_groups[0]['lr'],\n",
        "        })\n",
        "\n",
        "        print(f\"Epoch {epoch+1}/{num_epochs} - Train Loss: {train_loss:.4f} - Train Acc: {train_accuracy:.4f} | Eval Loss: {eval_loss:.4f} - Eval Acc: {eval_accuracy:.4f}\")\n",
        "\n",
        "        # Callbacks\n",
        "        ## Learning rate scheduler\n",
        "        if scheduler_type==\"epoch\":\n",
        "            scheduler.step()\n",
        "        ## Early stopping\n",
        "        if eval_accuracy>=best_eval*(1+patience_factor):\n",
        "            best_eval = eval_accuracy\n",
        "            pt_epoch = 0\n",
        "        else:\n",
        "            pt_epoch += 1\n",
        "            if pt_epoch>=patience:\n",
        "                print(f\"Epoch {epoch+1}/{num_epochs} - Training interrupted due to early stopping condition.\")\n",
        "                wandb.finish()\n",
        "                break\n",
        "            else:\n",
        "                print(f\"Epoch {epoch+1}/{num_epochs} - Current epochs without validation metric improvement {pt_epoch}. {patience-pt_epoch} remaining before stopping.\")\n",
        "\n",
        "    # Finish W&B run\n",
        "    wandb.finish()"
      ]
    },
    {
      "cell_type": "markdown",
      "metadata": {
        "id": "0cW5H0nX99DW"
      },
      "source": [
        "## 6. Entrenamiento WandB"
      ]
    },
    {
      "cell_type": "code",
      "execution_count": 41,
      "metadata": {
        "colab": {
          "base_uri": "https://localhost:8080/",
          "height": 982
        },
        "id": "47ad8Ydj-ePT",
        "outputId": "3654edeb-e1db-45db-8bef-eaa1b5a450e2"
      },
      "outputs": [
        {
          "data": {
            "text/html": [
              "Tracking run with wandb version 0.19.9"
            ],
            "text/plain": [
              "<IPython.core.display.HTML object>"
            ]
          },
          "metadata": {},
          "output_type": "display_data"
        },
        {
          "data": {
            "text/html": [
              "Run data is saved locally in <code>c:\\UBA\\aprendizaje_profundo\\clase_5\\jupyter_notebooks\\wandb\\run-20250526_213659-4nhwqyv3</code>"
            ],
            "text/plain": [
              "<IPython.core.display.HTML object>"
            ]
          },
          "metadata": {},
          "output_type": "display_data"
        },
        {
          "data": {
            "text/html": [
              "Syncing run <strong><a href='https://wandb.ai/mmaillot/CEIA-Co19/runs/4nhwqyv3' target=\"_blank\">fallen-terrain-1</a></strong> to <a href='https://wandb.ai/mmaillot/CEIA-Co19' target=\"_blank\">Weights & Biases</a> (<a href='https://wandb.me/developer-guide' target=\"_blank\">docs</a>)<br>"
            ],
            "text/plain": [
              "<IPython.core.display.HTML object>"
            ]
          },
          "metadata": {},
          "output_type": "display_data"
        },
        {
          "data": {
            "text/html": [
              " View project at <a href='https://wandb.ai/mmaillot/CEIA-Co19' target=\"_blank\">https://wandb.ai/mmaillot/CEIA-Co19</a>"
            ],
            "text/plain": [
              "<IPython.core.display.HTML object>"
            ]
          },
          "metadata": {},
          "output_type": "display_data"
        },
        {
          "data": {
            "text/html": [
              " View run at <a href='https://wandb.ai/mmaillot/CEIA-Co19/runs/4nhwqyv3' target=\"_blank\">https://wandb.ai/mmaillot/CEIA-Co19/runs/4nhwqyv3</a>"
            ],
            "text/plain": [
              "<IPython.core.display.HTML object>"
            ]
          },
          "metadata": {},
          "output_type": "display_data"
        },
        {
          "name": "stderr",
          "output_type": "stream",
          "text": [
            "Epoch Progress:   7%|▋         | 1/15 [00:18<04:21, 18.68s/it]"
          ]
        },
        {
          "name": "stdout",
          "output_type": "stream",
          "text": [
            "Epoch 1/15 - Train Loss: 1.5317 - Train Acc: 0.5672 | Eval Loss: 0.8548 - Eval Acc: 0.7771\n"
          ]
        },
        {
          "name": "stderr",
          "output_type": "stream",
          "text": [
            "Epoch Progress:  13%|█▎        | 2/15 [00:36<03:55, 18.15s/it]"
          ]
        },
        {
          "name": "stdout",
          "output_type": "stream",
          "text": [
            "Epoch 2/15 - Train Loss: 0.7434 - Train Acc: 0.8007 | Eval Loss: 0.4166 - Eval Acc: 0.8816\n"
          ]
        },
        {
          "name": "stderr",
          "output_type": "stream",
          "text": [
            "Epoch Progress:  20%|██        | 3/15 [00:54<03:37, 18.13s/it]"
          ]
        },
        {
          "name": "stdout",
          "output_type": "stream",
          "text": [
            "Epoch 3/15 - Train Loss: 0.5403 - Train Acc: 0.8534 | Eval Loss: 0.3618 - Eval Acc: 0.8968\n"
          ]
        },
        {
          "name": "stderr",
          "output_type": "stream",
          "text": [
            "Epoch Progress:  27%|██▋       | 4/15 [01:12<03:18, 18.06s/it]"
          ]
        },
        {
          "name": "stdout",
          "output_type": "stream",
          "text": [
            "Epoch 4/15 - Train Loss: 0.4449 - Train Acc: 0.8764 | Eval Loss: 0.2553 - Eval Acc: 0.9243\n"
          ]
        },
        {
          "name": "stderr",
          "output_type": "stream",
          "text": [
            "Epoch Progress:  33%|███▎      | 5/15 [01:30<03:01, 18.13s/it]"
          ]
        },
        {
          "name": "stdout",
          "output_type": "stream",
          "text": [
            "Epoch 5/15 - Train Loss: 0.3644 - Train Acc: 0.8975 | Eval Loss: 0.2149 - Eval Acc: 0.9342\n"
          ]
        },
        {
          "name": "stderr",
          "output_type": "stream",
          "text": [
            "Epoch Progress:  40%|████      | 6/15 [01:49<02:44, 18.24s/it]"
          ]
        },
        {
          "name": "stdout",
          "output_type": "stream",
          "text": [
            "Epoch 6/15 - Train Loss: 0.3296 - Train Acc: 0.9062 | Eval Loss: 0.1996 - Eval Acc: 0.9397\n",
            "Epoch 6/15 - Current epochs without validation metric improvement 1. 2 remaining before stopping.\n"
          ]
        },
        {
          "name": "stderr",
          "output_type": "stream",
          "text": [
            "Epoch Progress:  47%|████▋     | 7/15 [02:07<02:24, 18.12s/it]"
          ]
        },
        {
          "name": "stdout",
          "output_type": "stream",
          "text": [
            "Epoch 7/15 - Train Loss: 0.3142 - Train Acc: 0.9099 | Eval Loss: 0.1944 - Eval Acc: 0.9408\n",
            "Epoch 7/15 - Current epochs without validation metric improvement 2. 1 remaining before stopping.\n"
          ]
        },
        {
          "name": "stderr",
          "output_type": "stream",
          "text": [
            "Epoch Progress:  53%|█████▎    | 8/15 [02:24<02:05, 17.93s/it]"
          ]
        },
        {
          "name": "stdout",
          "output_type": "stream",
          "text": [
            "Epoch 8/15 - Train Loss: 0.2963 - Train Acc: 0.9141 | Eval Loss: 0.1700 - Eval Acc: 0.9469\n"
          ]
        },
        {
          "name": "stderr",
          "output_type": "stream",
          "text": [
            "Epoch Progress:  60%|██████    | 9/15 [02:42<01:46, 17.77s/it]"
          ]
        },
        {
          "name": "stdout",
          "output_type": "stream",
          "text": [
            "Epoch 9/15 - Train Loss: 0.2699 - Train Acc: 0.9195 | Eval Loss: 0.1538 - Eval Acc: 0.9513\n",
            "Epoch 9/15 - Current epochs without validation metric improvement 1. 2 remaining before stopping.\n"
          ]
        },
        {
          "name": "stderr",
          "output_type": "stream",
          "text": [
            "Epoch Progress:  67%|██████▋   | 10/15 [02:59<01:28, 17.71s/it]"
          ]
        },
        {
          "name": "stdout",
          "output_type": "stream",
          "text": [
            "Epoch 10/15 - Train Loss: 0.2494 - Train Acc: 0.9262 | Eval Loss: 0.1411 - Eval Acc: 0.9545\n",
            "Epoch 10/15 - Current epochs without validation metric improvement 2. 1 remaining before stopping.\n"
          ]
        },
        {
          "name": "stderr",
          "output_type": "stream",
          "text": [
            "Epoch Progress:  73%|███████▎  | 11/15 [03:17<01:11, 17.84s/it]"
          ]
        },
        {
          "name": "stdout",
          "output_type": "stream",
          "text": [
            "Epoch 11/15 - Train Loss: 0.2361 - Train Acc: 0.9291 | Eval Loss: 0.1334 - Eval Acc: 0.9568\n"
          ]
        },
        {
          "name": "stderr",
          "output_type": "stream",
          "text": [
            "Epoch Progress:  80%|████████  | 12/15 [03:36<00:53, 17.99s/it]"
          ]
        },
        {
          "name": "stdout",
          "output_type": "stream",
          "text": [
            "Epoch 12/15 - Train Loss: 0.2259 - Train Acc: 0.9328 | Eval Loss: 0.1295 - Eval Acc: 0.9574\n",
            "Epoch 12/15 - Current epochs without validation metric improvement 1. 2 remaining before stopping.\n"
          ]
        },
        {
          "name": "stderr",
          "output_type": "stream",
          "text": [
            "Epoch Progress:  87%|████████▋ | 13/15 [03:54<00:36, 18.15s/it]"
          ]
        },
        {
          "name": "stdout",
          "output_type": "stream",
          "text": [
            "Epoch 13/15 - Train Loss: 0.2191 - Train Acc: 0.9354 | Eval Loss: 0.1262 - Eval Acc: 0.9590\n",
            "Epoch 13/15 - Current epochs without validation metric improvement 2. 1 remaining before stopping.\n",
            "Epoch 14/15 - Train Loss: 0.2147 - Train Acc: 0.9354 | Eval Loss: 0.1251 - Eval Acc: 0.9599\n",
            "Epoch 14/15 - Training interrupted due to early stopping condition.\n"
          ]
        },
        {
          "data": {
            "text/html": [],
            "text/plain": [
              "<IPython.core.display.HTML object>"
            ]
          },
          "metadata": {},
          "output_type": "display_data"
        },
        {
          "data": {
            "text/html": [
              "<br>    <style><br>        .wandb-row {<br>            display: flex;<br>            flex-direction: row;<br>            flex-wrap: wrap;<br>            justify-content: flex-start;<br>            width: 100%;<br>        }<br>        .wandb-col {<br>            display: flex;<br>            flex-direction: column;<br>            flex-basis: 100%;<br>            flex: 1;<br>            padding: 10px;<br>        }<br>    </style><br><div class=\"wandb-row\"><div class=\"wandb-col\"><h3>Run history:</h3><br/><table class=\"wandb\"><tr><td>batch_loss</td><td>█▅▄▃▃▃▃▂▂▂▂▂▂▂▂▂▂▂▂▂▂▂▁▁▁▁▁▂▁▁▂▂▁▁▂▁▂▁▂▁</td></tr><tr><td>batch_lr</td><td>▆▁▁█▇▅▄▂▁▁█████▆▆▅▄▂▁▁▁████▇▇▇▆▆▆▅▅▃▃▂▂▁</td></tr><tr><td>batch_step</td><td>▁▁▁▁▁▂▂▂▃▃▃▃▄▄▄▄▄▄▄▄▅▅▅▅▅▅▆▆▆▆▇▇▇▇▇█████</td></tr><tr><td>epoch</td><td>▁▂▂▃▃▄▄▅▅▆▆▇▇█</td></tr><tr><td>eval_accuracy</td><td>▁▅▆▇▇▇▇███████</td></tr><tr><td>eval_loss</td><td>█▄▃▂▂▂▂▁▁▁▁▁▁▁</td></tr><tr><td>learning_rate</td><td>█▄█▇▄▂██▇▆▄▃▂▁</td></tr><tr><td>train_accuracy</td><td>▁▅▆▇▇▇████████</td></tr><tr><td>train_loss</td><td>█▄▃▂▂▂▂▁▁▁▁▁▁▁</td></tr></table><br/></div><div class=\"wandb-col\"><h3>Run summary:</h3><br/><table class=\"wandb\"><tr><td>batch_loss</td><td>0.22448</td></tr><tr><td>batch_lr</td><td>1e-05</td></tr><tr><td>batch_step</td><td>13131</td></tr><tr><td>epoch</td><td>13</td></tr><tr><td>eval_accuracy</td><td>0.9599</td></tr><tr><td>eval_loss</td><td>0.12508</td></tr><tr><td>learning_rate</td><td>1e-05</td></tr><tr><td>train_accuracy</td><td>0.93538</td></tr><tr><td>train_loss</td><td>0.21468</td></tr></table><br/></div></div>"
            ],
            "text/plain": [
              "<IPython.core.display.HTML object>"
            ]
          },
          "metadata": {},
          "output_type": "display_data"
        },
        {
          "data": {
            "text/html": [
              " View run <strong style=\"color:#cdcd00\">fallen-terrain-1</strong> at: <a href='https://wandb.ai/mmaillot/CEIA-Co19/runs/4nhwqyv3' target=\"_blank\">https://wandb.ai/mmaillot/CEIA-Co19/runs/4nhwqyv3</a><br> View project at: <a href='https://wandb.ai/mmaillot/CEIA-Co19' target=\"_blank\">https://wandb.ai/mmaillot/CEIA-Co19</a><br>Synced 5 W&B file(s), 0 media file(s), 0 artifact file(s) and 0 other file(s)"
            ],
            "text/plain": [
              "<IPython.core.display.HTML object>"
            ]
          },
          "metadata": {},
          "output_type": "display_data"
        },
        {
          "data": {
            "text/html": [
              "Find logs at: <code>.\\wandb\\run-20250526_213659-4nhwqyv3\\logs</code>"
            ],
            "text/plain": [
              "<IPython.core.display.HTML object>"
            ]
          },
          "metadata": {},
          "output_type": "display_data"
        },
        {
          "name": "stderr",
          "output_type": "stream",
          "text": [
            "Epoch Progress:  87%|████████▋ | 13/15 [04:15<00:39, 19.63s/it]\n"
          ]
        }
      ],
      "source": [
        "# corremos la función de entrenamiento con todos los argumentos correspondientes\n",
        "train_model_wandb(model, optimizer, dataloader['train'], dataloader['test'], loss_fn, scheduler_type=scheduler_type, num_epochs=15)"
      ]
    },
    {
      "cell_type": "markdown",
      "metadata": {
        "id": "dHcr6aDtHNfc"
      },
      "source": [
        "## 7. Vemos que funcione."
      ]
    },
    {
      "cell_type": "code",
      "execution_count": 85,
      "metadata": {
        "colab": {
          "base_uri": "https://localhost:8080/",
          "height": 679
        },
        "id": "k_jFvJ603PC-",
        "outputId": "2961c411-8eeb-4eb8-f902-cc083df20d3b"
      },
      "outputs": [
        {
          "name": "stdout",
          "output_type": "stream",
          "text": [
            "Tamaño del batch de feature (input / imagen): 64\n",
            "torch.Size([1, 28, 28])\n"
          ]
        },
        {
          "data": {
            "image/png": "[encoded data removed]",
            "text/plain": [
              "<Figure size 640x480 with 1 Axes>"
            ]
          },
          "metadata": {},
          "output_type": "display_data"
        },
        {
          "name": "stdout",
          "output_type": "stream",
          "text": [
            "Tamaño imagen de entrada a red:  torch.Size([1, 1, 28, 28])\n",
            "Predición del modelo:\n",
            "tensor([[-0.1152, -1.5734,  7.9792,  2.0501, -4.7255,  0.6155, -3.4550, -0.6987,\n",
            "         -0.7724, -1.9042]], device='cuda:0')\n",
            "\n",
            "softmax de predicción:\n",
            "tensor([[3.0401e-04, 7.0729e-05, 9.9595e-01, 2.6499e-03, 3.0245e-06, 6.3129e-04,\n",
            "         1.0775e-05, 1.6961e-04, 1.5756e-04, 5.0807e-05]], device='cuda:0')\n",
            "\n",
            "El numero es un:  2\n"
          ]
        }
      ],
      "source": [
        "# corremos 1 dato, a ver como lo clasifica...\n",
        "# generamos un batch del dataloader de testeo\n",
        "test_features, test_labels = next(iter(dataloader['test']))\n",
        "# obtengo el tamaño del batch\n",
        "print(f\"Tamaño del batch de feature (input / imagen): {test_features.size(0)}\")\n",
        "\n",
        "# generamos un índice aleatorio para tomar una imagen del batch\n",
        "k = random.randint(0, test_features.size(0) - 1)\n",
        "\n",
        "# verifico las dimensiones \n",
        "samp_img = test_features[k]\n",
        "print(samp_img.shape)\n",
        "\n",
        "\n",
        "# ploteo la imagen\n",
        "plt.imshow(samp_img.squeeze(), cmap='gray')\n",
        "plt.show()\n",
        "\n",
        "# preparo para pasarla a la red (model) asi predice.\n",
        "samp_imp = samp_img.unsqueeze(0) # agrego la batch dim \n",
        "samp_img = samp_imp.to(device) # aseguro que la imagen esté en el device correcto (GPU o CPU)\n",
        "print('Tamaño imagen de entrada a red: ', samp_img.shape)\n",
        "\n",
        "# la paso al modelo\n",
        "model.to(device)\n",
        "model.eval()\n",
        "y_hat = model(samp_img)\n",
        "print('Predición del modelo:')\n",
        "print(y_hat.detach())\n",
        "print()\n",
        "print('softmax de predicción:')\n",
        "print(torch.nn.functional.softmax(y_hat, dim=1).detach())\n",
        "print()\n",
        "print(f'El numero es un: ', torch.argmax(y_hat, axis=1).item())\n"
      ]
    }
  ],
  "metadata": {
    "accelerator": "GPU",
    "colab": {
      "gpuType": "T4",
      "provenance": []
    },
    "kernelspec": {
      "display_name": "uba_venv",
      "language": "python",
      "name": "python3"
    },
    "language_info": {
      "codemirror_mode": {
        "name": "ipython",
        "version": 3
      },
      "file_extension": ".py",
      "mimetype": "text/x-python",
      "name": "python",
      "nbconvert_exporter": "python",
      "pygments_lexer": "ipython3",
      "version": "3.10.11"
    }
  },
  "nbformat": 4,
  "nbformat_minor": 0
}

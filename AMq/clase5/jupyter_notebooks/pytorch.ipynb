{
 "cells": [
  {
   "cell_type": "code",
   "execution_count": 1,
   "metadata": {
    "ExecuteTime": {
     "end_time": "2024-04-26T22:12:42.321649Z",
     "start_time": "2024-04-26T22:12:42.188214Z"
    }
   },
   "outputs": [],
   "source": [
    "import pandas as pd\n",
    "import numpy as np\n",
    "import matplotlib.pyplot as plt\n",
    "import seaborn as sns\n",
    "\n",
    "from sklearn.preprocessing import StandardScaler\n",
    "from sklearn.model_selection import train_test_split\n",
    "from sklearn.metrics import accuracy_score, f1_score, confusion_matrix, ConfusionMatrixDisplay, RocCurveDisplay\n",
    "\n",
    "sns.set()"
   ]
  },
  {
   "cell_type": "markdown",
   "metadata": {},
   "source": [
    "# PyTorch\n",
    "\n",
    "PyTorch nos ofrece una serie de herramientas que no solo nos permite armar redes profundas, sino que además realizar diferentes operaciones de transformaciones y mediciones de métricas de evaluación.\n",
    "\n",
    "Hoy en dia es una libreria muy popular, dado que nos facilita realizar procesamiento que normalmente se necesitaría de conocimientos más avanzados de programación, como por ejemplo, el acceso al uso de la GPU, en el cual es transparente al usuario.\n",
    "\n",
    "Además, el uso de PyTorch es más pythonic que Tensorflow, por lo que si uno está familiarizado con Python, encuentra más fácil el uso de PyTorch que Tensorflow.\n",
    "\n",
    "## Instalación \n",
    "\n",
    "En este caso vamos a instalar sin realizar nada para hacer andar la GPU, eso lo verán más adelante o pueden buscar tutoriales en internet. Esto dependerá de que marca de GPU tengan o inclusive de arquitectura.\n",
    "\n",
    "Para instalar PyTorch únicamente para CPU hacemos:\n",
    "\n",
    "`!pip3 install torch torchvision torchaudio`"
   ]
  },
  {
   "cell_type": "code",
   "execution_count": 2,
   "metadata": {
    "ExecuteTime": {
     "end_time": "2024-04-26T22:12:43.208511Z",
     "start_time": "2024-04-26T22:12:42.323090Z"
    }
   },
   "outputs": [],
   "source": [
    "# Llamamos a la libreria\n",
    "import torch"
   ]
  },
  {
   "cell_type": "markdown",
   "metadata": {},
   "source": [
    "## Tensores de PyTorch\n",
    "\n",
    "PyTorch nos presenta una estructura de datos similar a arrays o matrices, llamada tensores. Los tensores es nuestra estructura que nos permite codificar nuestras entradas o salidas"
   ]
  },
  {
   "cell_type": "code",
   "execution_count": 6,
   "metadata": {
    "ExecuteTime": {
     "end_time": "2024-04-26T22:12:43.212255Z",
     "start_time": "2024-04-26T22:12:43.209115Z"
    }
   },
   "outputs": [],
   "source": [
    "# Igual que Numpy podemos crear tensores a mano\n",
    "\n",
    "tensor1 = torch.tensor([1, 2])\n",
    "tensor2 = torch.tensor([[1, 2], [3, 4], [5, 6]])"
   ]
  },
  {
   "cell_type": "code",
   "execution_count": 4,
   "metadata": {
    "ExecuteTime": {
     "end_time": "2024-04-26T22:12:43.225462Z",
     "start_time": "2024-04-26T22:12:43.220314Z"
    }
   },
   "outputs": [
    {
     "data": {
      "text/plain": [
       "tensor([1, 2])"
      ]
     },
     "execution_count": 4,
     "metadata": {},
     "output_type": "execute_result"
    }
   ],
   "source": [
    "tensor1"
   ]
  },
  {
   "cell_type": "code",
   "execution_count": 7,
   "metadata": {
    "ExecuteTime": {
     "end_time": "2024-04-26T22:12:43.228780Z",
     "start_time": "2024-04-26T22:12:43.226029Z"
    }
   },
   "outputs": [
    {
     "data": {
      "text/plain": [
       "tensor([[1, 2],\n",
       "        [3, 4],\n",
       "        [5, 6]])"
      ]
     },
     "execution_count": 7,
     "metadata": {},
     "output_type": "execute_result"
    }
   ],
   "source": [
    "tensor2"
   ]
  },
  {
   "cell_type": "code",
   "execution_count": 8,
   "metadata": {
    "ExecuteTime": {
     "end_time": "2024-04-26T22:12:43.231717Z",
     "start_time": "2024-04-26T22:12:43.229466Z"
    }
   },
   "outputs": [],
   "source": [
    "# Podemos crearlo desde un array de Numpy, lo que nos da la forma de interactuar entre ellos\n",
    "numpy_array = np.ones([10, 3])\n",
    "tensor3 = torch.from_numpy(numpy_array)"
   ]
  },
  {
   "cell_type": "code",
   "execution_count": 9,
   "metadata": {
    "ExecuteTime": {
     "end_time": "2024-04-26T22:12:43.236011Z",
     "start_time": "2024-04-26T22:12:43.232712Z"
    }
   },
   "outputs": [
    {
     "data": {
      "text/plain": [
       "tensor([[1., 1., 1.],\n",
       "        [1., 1., 1.],\n",
       "        [1., 1., 1.],\n",
       "        [1., 1., 1.],\n",
       "        [1., 1., 1.],\n",
       "        [1., 1., 1.],\n",
       "        [1., 1., 1.],\n",
       "        [1., 1., 1.],\n",
       "        [1., 1., 1.],\n",
       "        [1., 1., 1.]], dtype=torch.float64)"
      ]
     },
     "execution_count": 9,
     "metadata": {},
     "output_type": "execute_result"
    }
   ],
   "source": [
    "tensor3"
   ]
  },
  {
   "cell_type": "code",
   "execution_count": 11,
   "metadata": {},
   "outputs": [
    {
     "name": "stdout",
     "output_type": "stream",
     "text": [
      "tensor([[ 3.9595e+00,  4.9484e+00,  7.5516e+00,  7.7732e+00,  6.6658e+00],\n",
      "        [ 5.8252e+00,  2.0378e+00,  6.6167e+00,  3.9600e+00,  3.3706e+00],\n",
      "        [-1.1882e+00,  2.1761e+00,  1.4584e+00, -5.5595e-01,  2.7258e+00],\n",
      "        [-1.7712e+00, -7.4793e-03,  6.4334e+00,  7.9506e+00, -2.9887e-01],\n",
      "        [ 2.9759e+00,  5.8544e+00,  4.1146e+00,  1.2142e+00,  1.1121e+00]])\n"
     ]
    }
   ],
   "source": [
    "a = -2\n",
    "b = 8\n",
    "print((b-a)*torch.rand((5,5))+a)"
   ]
  },
  {
   "cell_type": "code",
   "execution_count": 10,
   "metadata": {
    "ExecuteTime": {
     "end_time": "2024-04-26T22:12:43.240634Z",
     "start_time": "2024-04-26T22:12:43.236658Z"
    }
   },
   "outputs": [
    {
     "name": "stdout",
     "output_type": "stream",
     "text": [
      "Tensor aleatorio: \n",
      " tensor([[0.2764, 0.8365, 0.5701],\n",
      "        [0.4920, 0.8699, 0.4064]]) \n",
      "\n",
      "Tensor de unos: \n",
      " tensor([[1., 1., 1.],\n",
      "        [1., 1., 1.]]) \n",
      "\n",
      "Tensor de ceros: \n",
      " tensor([[0., 0., 0.],\n",
      "        [0., 0., 0.]])\n"
     ]
    }
   ],
   "source": [
    "# También tenemos formas similares a la de numpy\n",
    "shape = (2,3)\n",
    "\n",
    "rand_tensor = torch.rand(shape)\n",
    "ones_tensor = torch.ones(shape)\n",
    "zeros_tensor = torch.zeros(shape)\n",
    "\n",
    "print(f\"Tensor aleatorio: \\n {rand_tensor} \\n\")\n",
    "print(f\"Tensor de unos: \\n {ones_tensor} \\n\")\n",
    "print(f\"Tensor de ceros: \\n {zeros_tensor}\")"
   ]
  },
  {
   "cell_type": "code",
   "execution_count": 12,
   "metadata": {
    "ExecuteTime": {
     "end_time": "2024-04-26T22:12:43.243047Z",
     "start_time": "2024-04-26T22:12:43.241264Z"
    }
   },
   "outputs": [
    {
     "name": "stdout",
     "output_type": "stream",
     "text": [
      "Tamaño del tensor: torch.Size([2, 3])\n",
      "Tipo de dato del tensor: torch.float32\n",
      "En donde está guardado el tensor: cpu\n"
     ]
    }
   ],
   "source": [
    "# Igual que Numpy, los tensores tiene atributos que nos permiten entender mejor como están formados\n",
    "\n",
    "print(f\"Tamaño del tensor: {rand_tensor.shape}\")\n",
    "print(f\"Tipo de dato del tensor: {rand_tensor.dtype}\")\n",
    "print(f\"En donde está guardado el tensor: {rand_tensor.device}\")"
   ]
  },
  {
   "cell_type": "code",
   "execution_count": null,
   "metadata": {},
   "outputs": [
    {
     "data": {
      "text/plain": [
       "False"
      ]
     },
     "execution_count": 14,
     "metadata": {},
     "output_type": "execute_result"
    }
   ],
   "source": [
    "if torch.cuda.is_available():\n",
    "    rand_tensor.to('cuda:0')"
   ]
  },
  {
   "cell_type": "markdown",
   "metadata": {},
   "source": [
    "Torch tiene como 100 operaciones de tensores implementadas. Incluyen operaciones aritmeticas, algebra lineal, manipulación de matrices, muestreo, concatenado, etc. La lista completa de cosas que se pueden hacer la pueden ver [acá](https://pytorch.org/docs/stable/torch.html)"
   ]
  },
  {
   "cell_type": "code",
   "execution_count": 15,
   "metadata": {
    "ExecuteTime": {
     "end_time": "2024-04-26T22:12:43.249246Z",
     "start_time": "2024-04-26T22:12:43.245121Z"
    }
   },
   "outputs": [
    {
     "name": "stdout",
     "output_type": "stream",
     "text": [
      "Primera fila: tensor([1., 1., 1., 1.])\n",
      "Primera columna: tensor([1., 1., 1., 1.])\n",
      "Ultima columna: tensor([1., 1., 1., 1.])\n",
      "tensor([[1., 0., 1., 1.],\n",
      "        [1., 0., 1., 1.],\n",
      "        [1., 0., 1., 1.],\n",
      "        [1., 0., 1., 1.]])\n"
     ]
    }
   ],
   "source": [
    "tensor_test = torch.ones(4, 4)\n",
    "print(f\"Primera fila: {tensor_test[0]}\")\n",
    "print(f\"Primera columna: {tensor_test[:, 0]}\")\n",
    "print(f\"Ultima columna: {tensor_test[:, -1]}\")\n",
    "\n",
    "# Asignamos usando slicing\n",
    "tensor_test[:,1] = 0\n",
    "print(tensor_test)"
   ]
  },
  {
   "cell_type": "code",
   "execution_count": 17,
   "metadata": {
    "ExecuteTime": {
     "end_time": "2024-04-26T22:12:43.251972Z",
     "start_time": "2024-04-26T22:12:43.249941Z"
    }
   },
   "outputs": [
    {
     "name": "stdout",
     "output_type": "stream",
     "text": [
      "[[1. 0. 1. 1.]\n",
      " [1. 0. 1. 1.]\n",
      " [1. 0. 1. 1.]\n",
      " [1. 0. 1. 1.]]\n"
     ]
    }
   ],
   "source": [
    "# Como podemos ir de Numpy -> Tensor, podemos ir al revés\n",
    "numpy_array = tensor_test.cpu().numpy()\n",
    "\n",
    "print(numpy_array)\n",
    "\n",
    "# Si tenemos la GPU habilitada, esto es más poderoso, porque nos permite ir de \n",
    "# CPU a GPU y viceversa"
   ]
  },
  {
   "cell_type": "markdown",
   "metadata": {},
   "source": [
    "## Datasets y dataloaders\n",
    "\n",
    "PyTorch también nos da herramientas para manejar datasets. Para ello nos provee de *torch.utils.data.DataLoader* y *torch.utils.data.Dataset*. Dataset nos permite almacenar observaciones y labels, y DataLoader nos permite definir iterables para permitirnos acceder a los datos.\n",
    "\n",
    "Aquí no lo vamos a usar, pero es interesante mencionar, sobre todo cuando se trabaja con datasets difíciles de usar, como imágenes o audios.\n",
    "\n",
    "## Construyendo una red neuronal\n",
    "\n",
    "Dado que como vimos que una red está conformado por capas:\n",
    "\n",
    "![](./neuronnetex.png)\n",
    "\n",
    "Por lo que la forma que construimos redes en PyTorch es de similar forma. Aca vamos a construir todas redes *fully connected* que son redes feed-foward. \n",
    "\n",
    "Para construir una red neuronal, creamos una clase que hereda la clase **torch.nn.Module**. *torch.nn.Module*  cuenta con todos los bloques que se necesita para construir una red neuronal y permite realizar todas las operaciones para obtener un valor de salida.\n",
    "\n",
    "Empecemos creando algunas redes\n",
    "\n",
    "### Perceptron\n",
    "\n",
    "Para crear el perceptron creamos una clase llamada **perceptron** que tiene como padre a **torch.nn.Module**. En su *init()* definimos a las capas:\n",
    "\n",
    "- torch.nn.Sequential: Es un contenedor que nos permite ir apilando las capas que queremos de nuestra red. Este contenedor ademas se ocupa de conectas a las capas\n",
    "- torch.nn.Linear: Es la capa que tiene los pesos de la entrada. En PyTorch, esa capa hay que especificarla, para que quede claro que es lineal (recordar w1x1 + x2x2 +...)\n",
    "- torch.nn.Sigmoid: Es la capa de función de activación que usamos (Sigmoide)"
   ]
  },
  {
   "cell_type": "code",
   "execution_count": 18,
   "metadata": {
    "ExecuteTime": {
     "end_time": "2024-04-26T22:12:43.255195Z",
     "start_time": "2024-04-26T22:12:43.252639Z"
    }
   },
   "outputs": [],
   "source": [
    "class perceptron(torch.nn.Module):\n",
    "    def __init__(self, input_size, output_size):\n",
    "        super().__init__()\n",
    "\n",
    "        self.layers = torch.nn.Sequential(\n",
    "            torch.nn.Linear(input_size, output_size),\n",
    "            torch.nn.Sigmoid()\n",
    "        )\n",
    "        \n",
    "    #Define a la parte de predicción\n",
    "    def forward(self, x):\n",
    "\n",
    "        # Pasamos por el perceptron\n",
    "        y_prob = self.layers(x)\n",
    "\n",
    "        return y_prob\n",
    "    \n",
    "    def digital_out(self, x):\n",
    "\n",
    "        y_prob = self.layers(x)\n",
    "\n",
    "        return torch.heaviside((y_prob * 2) - 1, values=torch.tensor(0.))\n",
    "        "
   ]
  },
  {
   "cell_type": "markdown",
   "metadata": {},
   "source": [
    "Para arrancar, entremos a la red para que aprenda la función AND"
   ]
  },
  {
   "cell_type": "code",
   "execution_count": 19,
   "metadata": {
    "ExecuteTime": {
     "end_time": "2024-04-26T22:12:43.258831Z",
     "start_time": "2024-04-26T22:12:43.256037Z"
    }
   },
   "outputs": [],
   "source": [
    "# Entrenos al perceptron para que pueda reproducir a la función AND de tres variables\n",
    "X_array = np.array([\n",
    "    [0, 0, 0],\n",
    "    [0, 0, 1],\n",
    "    [0, 1, 0],\n",
    "    [0, 1, 1],\n",
    "    [1, 0, 0],\n",
    "    [1, 0, 1],\n",
    "    [1, 1, 0],\n",
    "    [1, 1, 1.]])\n",
    "\n",
    "X = torch.from_numpy(X_array)\n",
    "X = X.to(torch.float32)\n",
    "\n",
    "y = torch.zeros((8, 1))\n",
    "y[-1] = 1"
   ]
  },
  {
   "cell_type": "markdown",
   "metadata": {},
   "source": [
    "Para entrenar con PyTorch necesitamos:\n",
    "\n",
    "- Una función de coste que nos permita calcular el error. Es la función para que podamos movernos con el gradiente dado los pesos. Las que nos ofrece PyTorch la podemos ver [acá](https://pytorch.org/docs/stable/nn.html#loss-functions)\n",
    "- Un optimizador que nos permita encontrar los pesos sinápticos al aplicar back-propagation. Hay muchas variantes del gradiente descendiente. Aquí usaremos Stochastic Gradient Descendant. Pueden ver más información [acá](https://pytorch.org/docs/stable/optim.html#torch.optim.Optimizer)\n",
    "\n",
    "Entonces para entrenar debemos:\n",
    "\n",
    "1. Iniciar la red, el optimizador y la función de coste.\n",
    "2. Fijar los gradientes en cero. Esto nos permite limpiar calculos viejos.\n",
    "3. Obtener una predicción inicial de la red\n",
    "4. Calcular el error generado por la red.\n",
    "5. Propagar el error mediante back-propagation.\n",
    "6. Aplicamos el optimizador\n",
    "7. Repetimos los pasos 2 al 6"
   ]
  },
  {
   "cell_type": "code",
   "execution_count": null,
   "metadata": {
    "ExecuteTime": {
     "end_time": "2024-04-26T22:12:44.707179Z",
     "start_time": "2024-04-26T22:12:43.259596Z"
    }
   },
   "outputs": [],
   "source": [
    "# Creamos el perceptron de tres entradas y una salida\n",
    "net = perceptron(3, 1)\n",
    "# Usamos como función de error a Entropía Cruzada Binaria, recomendada para clasificación\n",
    "criterion = torch.nn.BCELoss()\n",
    "optimizer = torch.optim.SGD(net.parameters(), lr=0.1)\n",
    "\n",
    "# Creamos una lista que mida el error en el loop\n",
    "errors = list()\n",
    "\n",
    "# Realizamos la iteración\n",
    "for epoch in range(1000):\n",
    "\n",
    "    ## Para cada uno de los datos del dataset\n",
    "    #values = np.random.permutation(X.shape[0])\n",
    "    #for i in values:\n",
    "    # Limpiamos los gradientes\n",
    "    optimizer.zero_grad()\n",
    "\n",
    "    # Obtenemos todas las predicciones\n",
    "    outputs = net(X)\n",
    "\n",
    "    # Calculamos el error\n",
    "    # ce = -[y_i * log(f(x_i)) + (1-y_i) * log(1-f(x_i))]\n",
    "    loss = criterion(outputs, y)\n",
    "\n",
    "    # Propagamos el error\n",
    "    loss.backward()\n",
    "\n",
    "    # Optimizamos los parametros\n",
    "    optimizer.step()\n",
    "\n",
    "    errors.append(loss.item())"
   ]
  },
  {
   "cell_type": "code",
   "execution_count": 31,
   "metadata": {
    "ExecuteTime": {
     "end_time": "2024-04-26T22:12:44.828368Z",
     "start_time": "2024-04-26T22:12:44.707922Z"
    }
   },
   "outputs": [
    {
     "data": {
      "image/png": "[encoded data removed]",
      "text/plain": [
       "<Figure size 500x500 with 1 Axes>"
      ]
     },
     "metadata": {},
     "output_type": "display_data"
    }
   ],
   "source": [
    "fig, ax = plt.subplots(figsize=(5,5))\n",
    "\n",
    "ax.plot(errors)\n",
    "ax.set_ylabel(\"Entropía Cruzada Binaria\")\n",
    "ax.set_xlabel(\"Iteración\")\n",
    "plt.show();"
   ]
  },
  {
   "cell_type": "code",
   "execution_count": 27,
   "metadata": {
    "ExecuteTime": {
     "end_time": "2024-04-26T22:12:44.839405Z",
     "start_time": "2024-04-26T22:12:44.831022Z"
    }
   },
   "outputs": [
    {
     "name": "stdout",
     "output_type": "stream",
     "text": [
      "Si la entrada es 0, 0, 1, la salida es: 0.0\n",
      "Si la entrada es 1, 1, 1, la salida es: 1.0\n"
     ]
    }
   ],
   "source": [
    "# Probemos a la red\n",
    "test_1 = net.digital_out(torch.tensor([0., 0, 1]))\n",
    "test_2 = net.digital_out(torch.tensor([1., 1, 1]))\n",
    "\n",
    "print(f\"Si la entrada es 0, 0, 1, la salida es: {test_1.item()}\")\n",
    "print(f\"Si la entrada es 1, 1, 1, la salida es: {test_2.item()}\")"
   ]
  },
  {
   "cell_type": "markdown",
   "metadata": {},
   "source": [
    "## Perceptron como regresión\n",
    "\n",
    "Usando un perceptrón, usémoslo en un ejemplo de regresión. Para ello vamos a convertir de Fahrenheit a Celsius. En la vida real, esto no tendría sentido, pero es a modo didáctico."
   ]
  },
  {
   "cell_type": "code",
   "execution_count": 32,
   "metadata": {
    "ExecuteTime": {
     "end_time": "2024-04-26T22:12:44.892981Z",
     "start_time": "2024-04-26T22:12:44.842156Z"
    }
   },
   "outputs": [],
   "source": [
    "# Primero definamos la función, que nos devuelva el valor de grado Celsius dado Fahrenheit\n",
    "def far_to_celsius(farenheit):\n",
    "    return (farenheit - 32) / 1.8\n",
    "\n",
    "X_numpy = np.linspace(0, 220, 60000).reshape([-1, 1])\n",
    "y_numpy = far_to_celsius(X_numpy).reshape([-1, 1])\n",
    "\n",
    "# Creamos los valores de entrada\n",
    "X = torch.from_numpy(X_numpy).reshape([-1, 1])\n",
    "X = X.to(torch.float32)\n",
    "\n",
    "y = torch.from_numpy(y_numpy).reshape([-1, 1])\n",
    "y = y.to(torch.float32)"
   ]
  },
  {
   "cell_type": "code",
   "execution_count": 33,
   "metadata": {
    "ExecuteTime": {
     "end_time": "2024-04-26T22:12:44.899906Z",
     "start_time": "2024-04-26T22:12:44.896268Z"
    }
   },
   "outputs": [],
   "source": [
    "# Creamos el perceptron para regresión\n",
    "class perceptron(torch.nn.Module):\n",
    "    def __init__(self):\n",
    "        super().__init__()\n",
    "\n",
    "        # En este caso solo nos quedamos con los datos lineales\n",
    "        self.layers = torch.nn.Sequential(\n",
    "            torch.nn.Linear(1, 1),\n",
    "        )\n",
    "    \n",
    "    def forward(self, x):\n",
    "\n",
    "        # Pasamos por el perceptron\n",
    "        y = self.layers(x)\n",
    "\n",
    "        return y"
   ]
  },
  {
   "cell_type": "code",
   "execution_count": 34,
   "metadata": {
    "ExecuteTime": {
     "end_time": "2024-04-26T22:12:44.930775Z",
     "start_time": "2024-04-26T22:12:44.902547Z"
    }
   },
   "outputs": [
    {
     "data": {
      "text/plain": [
       "tensor([[54.2143],\n",
       "        [ 8.9567],\n",
       "        [60.2685],\n",
       "        [37.5104],\n",
       "        [78.7590],\n",
       "        [67.4431],\n",
       "        [86.7953],\n",
       "        [50.9876],\n",
       "        [34.4792],\n",
       "        [-9.4441]])"
      ]
     },
     "execution_count": 34,
     "metadata": {},
     "output_type": "execute_result"
    }
   ],
   "source": [
    "y[torch.randperm(X.shape[0])[:10]]"
   ]
  },
  {
   "cell_type": "code",
   "execution_count": 35,
   "metadata": {
    "ExecuteTime": {
     "end_time": "2024-04-26T22:13:00.998337Z",
     "start_time": "2024-04-26T22:12:44.932942Z"
    }
   },
   "outputs": [],
   "source": [
    "from tqdm import tqdm\n",
    "# Creamos el perceptron para regresión\n",
    "net = perceptron()\n",
    "# Usamos como función de error a MSE\n",
    "criterion = torch.nn.MSELoss()\n",
    "optimizer = torch.optim.Adam(net.parameters(), lr=0.01) \n",
    "\n",
    "# Creamos una lista que mida el error en el loop\n",
    "errors = list()\n",
    "\n",
    "# Realizamos la iteración\n",
    "for epoch in tqdm(range(40000)):\n",
    "\n",
    "    values = torch.randperm(X.shape[0])\n",
    "\n",
    "    subsetX = X[values[:50]]\n",
    "    subsety = y[values[:50]]\n",
    "\n",
    "    # Limpiamos los gradientes\n",
    "    optimizer.zero_grad()\n",
    "\n",
    "    # Obtenemos todas las predicciones\n",
    "    outputs = net(subsetX)\n",
    "\n",
    "    # Calculamos el error\n",
    "    loss = criterion(outputs, subsety)\n",
    "\n",
    "    # Propagamos el error\n",
    "    loss.backward()\n",
    "\n",
    "    # Optimizamos los parámetros\n",
    "    optimizer.step()\n",
    "\n",
    "    errors.append(loss.item())"
   ]
  },
  {
   "cell_type": "code",
   "execution_count": 36,
   "metadata": {
    "ExecuteTime": {
     "end_time": "2024-04-26T22:13:01.107317Z",
     "start_time": "2024-04-26T22:13:00.999574Z"
    }
   },
   "outputs": [
    {
     "data": {
      "image/png": "[encoded data removed]",
      "text/plain": [
       "<Figure size 500x500 with 1 Axes>"
      ]
     },
     "metadata": {},
     "output_type": "display_data"
    }
   ],
   "source": [
    "fig, ax = plt.subplots(figsize=(5,5))\n",
    "\n",
    "ax.plot(errors)\n",
    "ax.set_ylabel(\"MSE\")\n",
    "ax.set_xlabel(\"Iteración\")\n",
    "ax.set_ylim([0, 150])\n",
    "plt.show();"
   ]
  },
  {
   "cell_type": "code",
   "execution_count": 37,
   "metadata": {
    "ExecuteTime": {
     "end_time": "2024-04-26T22:13:01.113638Z",
     "start_time": "2024-04-26T22:13:01.109023Z"
    }
   },
   "outputs": [
    {
     "name": "stdout",
     "output_type": "stream",
     "text": [
      "Si tenemos 73.4F, en centígrado según el modelo es: 23.000354766845703\n",
      "Si tenemos 73.4F, en centígrado de verdad es: 23.000000000000004\n",
      "Si tenemos 104F, en centígrado según el modelo es: 40.00050354003906\n",
      "Si tenemos 104F, en centígrado de verdad es: 40.0\n"
     ]
    }
   ],
   "source": [
    "# Probemos a la red\n",
    "test_1 = torch.tensor([[73.4]])\n",
    "test_1 = test_1.to(torch.float32)\n",
    "test_2 = torch.tensor([[104]])\n",
    "test_2 = test_2.to(torch.float32)\n",
    "\n",
    "print(f\"Si tenemos 73.4F, en centígrado según el modelo es: {net(test_1).item()}\")\n",
    "print(f\"Si tenemos 73.4F, en centígrado de verdad es: {far_to_celsius(73.4)}\")\n",
    "print(f\"Si tenemos 104F, en centígrado según el modelo es: {net(test_2).item()}\")\n",
    "print(f\"Si tenemos 104F, en centígrado de verdad es: {far_to_celsius(104)}\")"
   ]
  },
  {
   "cell_type": "markdown",
   "metadata": {},
   "source": [
    "## Red Feed-Foward en Heart\n",
    "\n",
    "Usemos un caso real para probar el modelo, el dataset [**Heart**](https://archive.ics.uci.edu/dataset/45/heart+disease) que usamos anteriormente.\n",
    "\n",
    "Recordemos que son mediciones de 1025 pacientes, con 13 atributos de variables fisiológicas. Además, contamos con una columna de valores binarios llamada **target** que nos indica si el paciente tiene una enfermedad coronaria o no."
   ]
  },
  {
   "cell_type": "code",
   "execution_count": 38,
   "metadata": {
    "ExecuteTime": {
     "end_time": "2024-04-26T22:13:01.141234Z",
     "start_time": "2024-04-26T22:13:01.116524Z"
    },
    "collapsed": false,
    "jupyter": {
     "outputs_hidden": false
    }
   },
   "outputs": [],
   "source": [
    "from sklearn.model_selection import train_test_split\n",
    "from torch.utils.data import DataLoader, TensorDataset\n",
    "\n",
    "# Cargamos el dataset\n",
    "df_heart = pd.read_csv(\"./Heart.csv\")\n",
    "df_heart.drop_duplicates(inplace=True)\n",
    "\n",
    "# Hacemos variable dummy a las categóricas\n",
    "categorical_features = [\"cp\", \"restecg\", \"slope\", \"ca\", \"thal\"]\n",
    "df_heart_dummies = pd.get_dummies(data=df_heart, columns=categorical_features, drop_first=True)\n",
    "\n",
    "X = df_heart_dummies.drop(columns='target').values\n",
    "X = X.astype(float)\n",
    "y = df_heart.iloc[:, -1].values\n",
    "y = y.astype(float)\n",
    "\n",
    "# Separamos los datos\n",
    "X_train, X_test, y_train, y_test = train_test_split(X, y, test_size=0.2, stratify=y)\n",
    "X_train, X_val, y_train, y_val = train_test_split(X_train, y_train, test_size=0.1, stratify=y_train)\n",
    "\n",
    "# Convertimos en tensores\n",
    "X_train_tensor = torch.tensor(X_train, dtype=torch.float32)\n",
    "X_test_tensor = torch.tensor(X_test, dtype=torch.float32)\n",
    "X_val_tensor = torch.tensor(X_val, dtype=torch.float32)\n",
    "y_train_tensor = torch.tensor(y_train, dtype=torch.float32)\n",
    "y_test_tensor = torch.tensor(y_test, dtype=torch.float32)\n",
    "y_val_tensor = torch.tensor(y_val, dtype=torch.float32)\n",
    "\n",
    "# Creamos usando DataLoader los sets\n",
    "train_dataset = TensorDataset(X_train_tensor, y_train_tensor)\n",
    "test_dataset = TensorDataset(X_test_tensor, y_test_tensor)\n",
    "val_dataset = TensorDataset(X_val_tensor, y_val_tensor)\n",
    "\n",
    "batch_size = 64\n",
    "train_loader = DataLoader(train_dataset, batch_size=batch_size, shuffle=True)\n",
    "test_loader = DataLoader(test_dataset, batch_size=batch_size)\n",
    "val_loader = DataLoader(val_dataset, batch_size=batch_size)"
   ]
  },
  {
   "cell_type": "code",
   "execution_count": 39,
   "metadata": {},
   "outputs": [],
   "source": [
    "batch = next(iter(train_loader))"
   ]
  },
  {
   "cell_type": "code",
   "execution_count": 40,
   "metadata": {},
   "outputs": [
    {
     "data": {
      "text/plain": [
       "[tensor([[ 50.,   1., 150.,  ...,   0.,   0.,   1.],\n",
       "         [ 66.,   1., 112.,  ...,   0.,   1.,   0.],\n",
       "         [ 56.,   1., 120.,  ...,   0.,   0.,   1.],\n",
       "         ...,\n",
       "         [ 42.,   1., 130.,  ...,   0.,   1.,   0.],\n",
       "         [ 66.,   0., 146.,  ...,   0.,   1.,   0.],\n",
       "         [ 52.,   1., 125.,  ...,   0.,   0.,   1.]]),\n",
       " tensor([0., 0., 1., 0., 1., 1., 0., 1., 1., 0., 1., 1., 1., 1., 0., 1., 1., 1.,\n",
       "         0., 1., 1., 0., 1., 1., 1., 1., 0., 0., 0., 1., 1., 1., 1., 1., 1., 1.,\n",
       "         1., 0., 0., 1., 0., 1., 1., 1., 1., 0., 1., 0., 0., 0., 1., 1., 0., 0.,\n",
       "         0., 1., 0., 1., 0., 1., 0., 1., 1., 0.])]"
      ]
     },
     "execution_count": 40,
     "metadata": {},
     "output_type": "execute_result"
    }
   ],
   "source": [
    "batch"
   ]
  },
  {
   "cell_type": "code",
   "execution_count": 57,
   "metadata": {
    "ExecuteTime": {
     "end_time": "2024-04-26T22:13:01.148850Z",
     "start_time": "2024-04-26T22:13:01.142603Z"
    },
    "collapsed": false,
    "jupyter": {
     "outputs_hidden": false
    }
   },
   "outputs": [],
   "source": [
    "class BinaryNetwork(torch.nn.Module):\n",
    "    \"\"\"\n",
    "    Red neuronal para clasificación binaria.\n",
    "\n",
    "    Esta red neuronal consiste en múltiples capas totalmente conectadas con normalización por lotes\n",
    "    y funciones de activación ReLU. La capa de salida utiliza una función de activación sigmoide\n",
    "    para producir probabilidades de clasificación binaria.\n",
    "\n",
    "    Args:\n",
    "        input_size (int): El número de características de entrada.\n",
    "    \"\"\"\n",
    "    def __init__(self, input_size):\n",
    "        \"\"\"\n",
    "        Inicializa el modelo BinaryNetwork.\n",
    "\n",
    "        Args:\n",
    "            input_size (int): El número de características de entrada.\n",
    "        \"\"\"\n",
    "        super().__init__()\n",
    "        self.layers = torch.nn.Sequential(\n",
    "            torch.nn.BatchNorm1d(input_size),\n",
    "            torch.nn.Linear(input_size, 32),\n",
    "            torch.nn.ReLU(),\n",
    "            torch.nn.Linear(32, 16),\n",
    "            torch.nn.ReLU(),\n",
    "            torch.nn.Linear(16, 1)\n",
    "        )\n",
    "        \n",
    "    def forward(self, x):\n",
    "        \"\"\"\n",
    "        Paso hacia adelante a través de la red.\n",
    "        Args:\n",
    "            x (torch.Tensor): Tensor de entrada de forma (batch_size, input_size).\n",
    "        Returns:\n",
    "            torch.Tensor: Tensor de salida conteniendo probabilidades de clasificación binaria.\n",
    "        \"\"\"\n",
    "        x = self.layers(x)\n",
    "        return torch.sigmoid(x)  # Escalamos los valores entre 0 y 1"
   ]
  },
  {
   "cell_type": "code",
   "execution_count": 69,
   "metadata": {
    "ExecuteTime": {
     "end_time": "2024-04-26T22:13:01.155029Z",
     "start_time": "2024-04-26T22:13:01.150269Z"
    },
    "collapsed": false,
    "jupyter": {
     "outputs_hidden": false
    }
   },
   "outputs": [],
   "source": [
    "# Inicialización del modelo, función de pérdida y optimizador\n",
    "input_size = 22 # número de características\n",
    "model = BinaryNetwork(input_size)\n",
    "\n",
    "loss_fn = torch.nn.BCELoss()\n",
    "optimizer = torch.optim.Adam(model.parameters(), lr=1e-4)"
   ]
  },
  {
   "cell_type": "markdown",
   "metadata": {
    "collapsed": false,
    "jupyter": {
     "outputs_hidden": false
    }
   },
   "source": [
    "Entrenamos el modelo:"
   ]
  },
  {
   "cell_type": "code",
   "execution_count": 70,
   "metadata": {
    "ExecuteTime": {
     "end_time": "2024-04-26T22:13:20.244086Z",
     "start_time": "2024-04-26T22:13:01.156793Z"
    },
    "collapsed": false,
    "jupyter": {
     "outputs_hidden": false
    }
   },
   "outputs": [
    {
     "name": "stdout",
     "output_type": "stream",
     "text": [
      "Época: 1/450, Costo de Entrenamiento: 0.6847, Costo de Validación: 0.6807, Exactitud en Validación: 0.5600\n",
      "Época: 2/450, Costo de Entrenamiento: 0.6820, Costo de Validación: 0.6823, Exactitud en Validación: 0.5600\n",
      "Validation loss not improved this epoch. Increasing patience counter.\n",
      "Época: 3/450, Costo de Entrenamiento: 0.6822, Costo de Validación: 0.6813, Exactitud en Validación: 0.5600\n",
      "Validation loss not improved this epoch. Increasing patience counter.\n",
      "Época: 4/450, Costo de Entrenamiento: 0.6805, Costo de Validación: 0.6819, Exactitud en Validación: 0.5600\n",
      "Validation loss not improved this epoch. Increasing patience counter.\n",
      "Época: 5/450, Costo de Entrenamiento: 0.6804, Costo de Validación: 0.6811, Exactitud en Validación: 0.5600\n",
      "Validation loss not improved this epoch. Increasing patience counter.\n",
      "Época: 6/450, Costo de Entrenamiento: 0.6805, Costo de Validación: 0.6798, Exactitud en Validación: 0.5600\n",
      "Época: 7/450, Costo de Entrenamiento: 0.6787, Costo de Validación: 0.6793, Exactitud en Validación: 0.5600\n",
      "Validation loss not improved this epoch. Increasing patience counter.\n",
      "Época: 8/450, Costo de Entrenamiento: 0.6774, Costo de Validación: 0.6784, Exactitud en Validación: 0.5600\n",
      "Época: 9/450, Costo de Entrenamiento: 0.6770, Costo de Validación: 0.6775, Exactitud en Validación: 0.5600\n",
      "Época: 10/450, Costo de Entrenamiento: 0.6767, Costo de Validación: 0.6768, Exactitud en Validación: 0.5600\n",
      "Época: 11/450, Costo de Entrenamiento: 0.6752, Costo de Validación: 0.6763, Exactitud en Validación: 0.5600\n",
      "Validation loss not improved this epoch. Increasing patience counter.\n",
      "Época: 12/450, Costo de Entrenamiento: 0.6745, Costo de Validación: 0.6754, Exactitud en Validación: 0.5600\n",
      "Época: 13/450, Costo de Entrenamiento: 0.6732, Costo de Validación: 0.6746, Exactitud en Validación: 0.5600\n",
      "Época: 14/450, Costo de Entrenamiento: 0.6721, Costo de Validación: 0.6747, Exactitud en Validación: 0.5600\n",
      "Validation loss not improved this epoch. Increasing patience counter.\n",
      "Época: 15/450, Costo de Entrenamiento: 0.6730, Costo de Validación: 0.6740, Exactitud en Validación: 0.5600\n",
      "Validation loss not improved this epoch. Increasing patience counter.\n",
      "Época: 16/450, Costo de Entrenamiento: 0.6707, Costo de Validación: 0.6731, Exactitud en Validación: 0.5600\n",
      "Época: 17/450, Costo de Entrenamiento: 0.6709, Costo de Validación: 0.6721, Exactitud en Validación: 0.5600\n",
      "Época: 18/450, Costo de Entrenamiento: 0.6695, Costo de Validación: 0.6714, Exactitud en Validación: 0.5600\n",
      "Validation loss not improved this epoch. Increasing patience counter.\n",
      "Época: 19/450, Costo de Entrenamiento: 0.6680, Costo de Validación: 0.6706, Exactitud en Validación: 0.5600\n",
      "Época: 20/450, Costo de Entrenamiento: 0.6672, Costo de Validación: 0.6696, Exactitud en Validación: 0.5600\n",
      "Época: 21/450, Costo de Entrenamiento: 0.6667, Costo de Validación: 0.6685, Exactitud en Validación: 0.5600\n",
      "Época: 22/450, Costo de Entrenamiento: 0.6660, Costo de Validación: 0.6681, Exactitud en Validación: 0.5600\n",
      "Validation loss not improved this epoch. Increasing patience counter.\n",
      "Época: 23/450, Costo de Entrenamiento: 0.6640, Costo de Validación: 0.6671, Exactitud en Validación: 0.5600\n",
      "Época: 24/450, Costo de Entrenamiento: 0.6635, Costo de Validación: 0.6664, Exactitud en Validación: 0.5600\n",
      "Época: 25/450, Costo de Entrenamiento: 0.6634, Costo de Validación: 0.6651, Exactitud en Validación: 0.5600\n",
      "Época: 26/450, Costo de Entrenamiento: 0.6623, Costo de Validación: 0.6646, Exactitud en Validación: 0.5600\n",
      "Validation loss not improved this epoch. Increasing patience counter.\n",
      "Época: 27/450, Costo de Entrenamiento: 0.6608, Costo de Validación: 0.6635, Exactitud en Validación: 0.5600\n",
      "Época: 28/450, Costo de Entrenamiento: 0.6591, Costo de Validación: 0.6627, Exactitud en Validación: 0.5600\n",
      "Época: 29/450, Costo de Entrenamiento: 0.6581, Costo de Validación: 0.6620, Exactitud en Validación: 0.5600\n",
      "Época: 30/450, Costo de Entrenamiento: 0.6577, Costo de Validación: 0.6611, Exactitud en Validación: 0.5600\n",
      "Época: 31/450, Costo de Entrenamiento: 0.6572, Costo de Validación: 0.6596, Exactitud en Validación: 0.5600\n",
      "Época: 32/450, Costo de Entrenamiento: 0.6553, Costo de Validación: 0.6589, Exactitud en Validación: 0.5600\n",
      "Época: 33/450, Costo de Entrenamiento: 0.6553, Costo de Validación: 0.6581, Exactitud en Validación: 0.5600\n",
      "Época: 34/450, Costo de Entrenamiento: 0.6536, Costo de Validación: 0.6573, Exactitud en Validación: 0.5600\n",
      "Época: 35/450, Costo de Entrenamiento: 0.6514, Costo de Validación: 0.6565, Exactitud en Validación: 0.5600\n",
      "Época: 36/450, Costo de Entrenamiento: 0.6516, Costo de Validación: 0.6555, Exactitud en Validación: 0.5600\n",
      "Época: 37/450, Costo de Entrenamiento: 0.6519, Costo de Validación: 0.6546, Exactitud en Validación: 0.5600\n",
      "Época: 38/450, Costo de Entrenamiento: 0.6492, Costo de Validación: 0.6534, Exactitud en Validación: 0.5600\n",
      "Época: 39/450, Costo de Entrenamiento: 0.6485, Costo de Validación: 0.6530, Exactitud en Validación: 0.5600\n",
      "Validation loss not improved this epoch. Increasing patience counter.\n",
      "Época: 40/450, Costo de Entrenamiento: 0.6470, Costo de Validación: 0.6517, Exactitud en Validación: 0.5600\n",
      "Época: 41/450, Costo de Entrenamiento: 0.6452, Costo de Validación: 0.6505, Exactitud en Validación: 0.5600\n",
      "Época: 42/450, Costo de Entrenamiento: 0.6450, Costo de Validación: 0.6487, Exactitud en Validación: 0.5600\n",
      "Época: 43/450, Costo de Entrenamiento: 0.6445, Costo de Validación: 0.6477, Exactitud en Validación: 0.5600\n",
      "Época: 44/450, Costo de Entrenamiento: 0.6443, Costo de Validación: 0.6468, Exactitud en Validación: 0.5600\n",
      "Época: 45/450, Costo de Entrenamiento: 0.6423, Costo de Validación: 0.6458, Exactitud en Validación: 0.5600\n",
      "Época: 46/450, Costo de Entrenamiento: 0.6409, Costo de Validación: 0.6453, Exactitud en Validación: 0.5600\n",
      "Validation loss not improved this epoch. Increasing patience counter.\n",
      "Época: 47/450, Costo de Entrenamiento: 0.6393, Costo de Validación: 0.6439, Exactitud en Validación: 0.5600\n",
      "Época: 48/450, Costo de Entrenamiento: 0.6390, Costo de Validación: 0.6429, Exactitud en Validación: 0.5600\n",
      "Época: 49/450, Costo de Entrenamiento: 0.6373, Costo de Validación: 0.6422, Exactitud en Validación: 0.5600\n",
      "Validation loss not improved this epoch. Increasing patience counter.\n",
      "Época: 50/450, Costo de Entrenamiento: 0.6356, Costo de Validación: 0.6412, Exactitud en Validación: 0.5600\n",
      "Época: 51/450, Costo de Entrenamiento: 0.6345, Costo de Validación: 0.6392, Exactitud en Validación: 0.5600\n",
      "Época: 52/450, Costo de Entrenamiento: 0.6344, Costo de Validación: 0.6379, Exactitud en Validación: 0.5600\n",
      "Época: 53/450, Costo de Entrenamiento: 0.6312, Costo de Validación: 0.6366, Exactitud en Validación: 0.5600\n",
      "Época: 54/450, Costo de Entrenamiento: 0.6302, Costo de Validación: 0.6355, Exactitud en Validación: 0.5600\n",
      "Época: 55/450, Costo de Entrenamiento: 0.6297, Costo de Validación: 0.6343, Exactitud en Validación: 0.5600\n",
      "Época: 56/450, Costo de Entrenamiento: 0.6261, Costo de Validación: 0.6328, Exactitud en Validación: 0.5600\n",
      "Época: 57/450, Costo de Entrenamiento: 0.6253, Costo de Validación: 0.6317, Exactitud en Validación: 0.5600\n",
      "Época: 58/450, Costo de Entrenamiento: 0.6251, Costo de Validación: 0.6306, Exactitud en Validación: 0.5600\n",
      "Época: 59/450, Costo de Entrenamiento: 0.6253, Costo de Validación: 0.6296, Exactitud en Validación: 0.5600\n",
      "Época: 60/450, Costo de Entrenamiento: 0.6228, Costo de Validación: 0.6286, Exactitud en Validación: 0.5600\n",
      "Época: 61/450, Costo de Entrenamiento: 0.6213, Costo de Validación: 0.6274, Exactitud en Validación: 0.5600\n",
      "Época: 62/450, Costo de Entrenamiento: 0.6197, Costo de Validación: 0.6261, Exactitud en Validación: 0.5600\n",
      "Época: 63/450, Costo de Entrenamiento: 0.6167, Costo de Validación: 0.6245, Exactitud en Validación: 0.5600\n",
      "Época: 64/450, Costo de Entrenamiento: 0.6170, Costo de Validación: 0.6228, Exactitud en Validación: 0.5600\n",
      "Época: 65/450, Costo de Entrenamiento: 0.6155, Costo de Validación: 0.6217, Exactitud en Validación: 0.6000\n",
      "Época: 66/450, Costo de Entrenamiento: 0.6125, Costo de Validación: 0.6199, Exactitud en Validación: 0.6000\n",
      "Época: 67/450, Costo de Entrenamiento: 0.6106, Costo de Validación: 0.6191, Exactitud en Validación: 0.6000\n",
      "Época: 68/450, Costo de Entrenamiento: 0.6112, Costo de Validación: 0.6186, Exactitud en Validación: 0.6000\n",
      "Validation loss not improved this epoch. Increasing patience counter.\n",
      "Época: 69/450, Costo de Entrenamiento: 0.6091, Costo de Validación: 0.6177, Exactitud en Validación: 0.6400\n",
      "Época: 70/450, Costo de Entrenamiento: 0.6075, Costo de Validación: 0.6158, Exactitud en Validación: 0.7200\n",
      "Época: 71/450, Costo de Entrenamiento: 0.6048, Costo de Validación: 0.6146, Exactitud en Validación: 0.7200\n",
      "Época: 72/450, Costo de Entrenamiento: 0.6018, Costo de Validación: 0.6130, Exactitud en Validación: 0.7200\n",
      "Época: 73/450, Costo de Entrenamiento: 0.6021, Costo de Validación: 0.6113, Exactitud en Validación: 0.7200\n",
      "Época: 74/450, Costo de Entrenamiento: 0.6004, Costo de Validación: 0.6096, Exactitud en Validación: 0.7200\n",
      "Época: 75/450, Costo de Entrenamiento: 0.5994, Costo de Validación: 0.6079, Exactitud en Validación: 0.7200\n",
      "Época: 76/450, Costo de Entrenamiento: 0.5967, Costo de Validación: 0.6065, Exactitud en Validación: 0.7200\n",
      "Época: 77/450, Costo de Entrenamiento: 0.5963, Costo de Validación: 0.6046, Exactitud en Validación: 0.7200\n",
      "Época: 78/450, Costo de Entrenamiento: 0.5923, Costo de Validación: 0.6040, Exactitud en Validación: 0.7200\n",
      "Época: 79/450, Costo de Entrenamiento: 0.5955, Costo de Validación: 0.6028, Exactitud en Validación: 0.7200\n",
      "Época: 80/450, Costo de Entrenamiento: 0.5951, Costo de Validación: 0.6004, Exactitud en Validación: 0.7200\n",
      "Época: 81/450, Costo de Entrenamiento: 0.5872, Costo de Validación: 0.5990, Exactitud en Validación: 0.7200\n",
      "Época: 82/450, Costo de Entrenamiento: 0.5888, Costo de Validación: 0.5971, Exactitud en Validación: 0.7200\n",
      "Época: 83/450, Costo de Entrenamiento: 0.5871, Costo de Validación: 0.5958, Exactitud en Validación: 0.7200\n",
      "Época: 84/450, Costo de Entrenamiento: 0.5899, Costo de Validación: 0.5943, Exactitud en Validación: 0.7200\n",
      "Época: 85/450, Costo de Entrenamiento: 0.5814, Costo de Validación: 0.5934, Exactitud en Validación: 0.7200\n",
      "Época: 86/450, Costo de Entrenamiento: 0.5842, Costo de Validación: 0.5920, Exactitud en Validación: 0.7600\n",
      "Época: 87/450, Costo de Entrenamiento: 0.5790, Costo de Validación: 0.5910, Exactitud en Validación: 0.8000\n",
      "Época: 88/450, Costo de Entrenamiento: 0.5799, Costo de Validación: 0.5898, Exactitud en Validación: 0.8000\n",
      "Época: 89/450, Costo de Entrenamiento: 0.5750, Costo de Validación: 0.5890, Exactitud en Validación: 0.8400\n",
      "Época: 90/450, Costo de Entrenamiento: 0.5741, Costo de Validación: 0.5870, Exactitud en Validación: 0.8400\n",
      "Época: 91/450, Costo de Entrenamiento: 0.5699, Costo de Validación: 0.5857, Exactitud en Validación: 0.8400\n",
      "Época: 92/450, Costo de Entrenamiento: 0.5666, Costo de Validación: 0.5844, Exactitud en Validación: 0.8400\n",
      "Época: 93/450, Costo de Entrenamiento: 0.5691, Costo de Validación: 0.5828, Exactitud en Validación: 0.8400\n",
      "Época: 94/450, Costo de Entrenamiento: 0.5650, Costo de Validación: 0.5817, Exactitud en Validación: 0.8400\n",
      "Época: 95/450, Costo de Entrenamiento: 0.5626, Costo de Validación: 0.5800, Exactitud en Validación: 0.8400\n",
      "Época: 96/450, Costo de Entrenamiento: 0.5605, Costo de Validación: 0.5790, Exactitud en Validación: 0.8400\n",
      "Época: 97/450, Costo de Entrenamiento: 0.5616, Costo de Validación: 0.5776, Exactitud en Validación: 0.8400\n",
      "Época: 98/450, Costo de Entrenamiento: 0.5611, Costo de Validación: 0.5762, Exactitud en Validación: 0.8400\n",
      "Época: 99/450, Costo de Entrenamiento: 0.5560, Costo de Validación: 0.5746, Exactitud en Validación: 0.8400\n",
      "Época: 100/450, Costo de Entrenamiento: 0.5542, Costo de Validación: 0.5732, Exactitud en Validación: 0.8400\n",
      "Época: 101/450, Costo de Entrenamiento: 0.5510, Costo de Validación: 0.5717, Exactitud en Validación: 0.8400\n",
      "Época: 102/450, Costo de Entrenamiento: 0.5502, Costo de Validación: 0.5702, Exactitud en Validación: 0.8400\n",
      "Época: 103/450, Costo de Entrenamiento: 0.5453, Costo de Validación: 0.5687, Exactitud en Validación: 0.8400\n",
      "Época: 104/450, Costo de Entrenamiento: 0.5446, Costo de Validación: 0.5671, Exactitud en Validación: 0.8800\n",
      "Época: 105/450, Costo de Entrenamiento: 0.5464, Costo de Validación: 0.5659, Exactitud en Validación: 0.8800\n",
      "Época: 106/450, Costo de Entrenamiento: 0.5443, Costo de Validación: 0.5646, Exactitud en Validación: 0.8800\n",
      "Época: 107/450, Costo de Entrenamiento: 0.5414, Costo de Validación: 0.5634, Exactitud en Validación: 0.8800\n",
      "Época: 108/450, Costo de Entrenamiento: 0.5436, Costo de Validación: 0.5617, Exactitud en Validación: 0.8800\n",
      "Época: 109/450, Costo de Entrenamiento: 0.5351, Costo de Validación: 0.5599, Exactitud en Validación: 0.8800\n",
      "Época: 110/450, Costo de Entrenamiento: 0.5360, Costo de Validación: 0.5587, Exactitud en Validación: 0.8800\n",
      "Época: 111/450, Costo de Entrenamiento: 0.5353, Costo de Validación: 0.5580, Exactitud en Validación: 0.8800\n",
      "Época: 112/450, Costo de Entrenamiento: 0.5375, Costo de Validación: 0.5564, Exactitud en Validación: 0.8800\n",
      "Época: 113/450, Costo de Entrenamiento: 0.5276, Costo de Validación: 0.5547, Exactitud en Validación: 0.8800\n",
      "Época: 114/450, Costo de Entrenamiento: 0.5315, Costo de Validación: 0.5536, Exactitud en Validación: 0.8800\n",
      "Época: 115/450, Costo de Entrenamiento: 0.5261, Costo de Validación: 0.5529, Exactitud en Validación: 0.8800\n",
      "Época: 116/450, Costo de Entrenamiento: 0.5243, Costo de Validación: 0.5512, Exactitud en Validación: 0.8800\n",
      "Época: 117/450, Costo de Entrenamiento: 0.5207, Costo de Validación: 0.5491, Exactitud en Validación: 0.8800\n",
      "Época: 118/450, Costo de Entrenamiento: 0.5202, Costo de Validación: 0.5482, Exactitud en Validación: 0.8800\n",
      "Época: 119/450, Costo de Entrenamiento: 0.5194, Costo de Validación: 0.5472, Exactitud en Validación: 0.8800\n",
      "Época: 120/450, Costo de Entrenamiento: 0.5172, Costo de Validación: 0.5465, Exactitud en Validación: 0.8800\n",
      "Época: 121/450, Costo de Entrenamiento: 0.5159, Costo de Validación: 0.5444, Exactitud en Validación: 0.8800\n",
      "Época: 122/450, Costo de Entrenamiento: 0.5116, Costo de Validación: 0.5431, Exactitud en Validación: 0.8800\n",
      "Época: 123/450, Costo de Entrenamiento: 0.5059, Costo de Validación: 0.5412, Exactitud en Validación: 0.8800\n",
      "Época: 124/450, Costo de Entrenamiento: 0.5082, Costo de Validación: 0.5402, Exactitud en Validación: 0.8800\n",
      "Época: 125/450, Costo de Entrenamiento: 0.5109, Costo de Validación: 0.5386, Exactitud en Validación: 0.8800\n",
      "Época: 126/450, Costo de Entrenamiento: 0.5049, Costo de Validación: 0.5385, Exactitud en Validación: 0.8800\n",
      "Validation loss not improved this epoch. Increasing patience counter.\n",
      "Época: 127/450, Costo de Entrenamiento: 0.5017, Costo de Validación: 0.5378, Exactitud en Validación: 0.8400\n",
      "Época: 128/450, Costo de Entrenamiento: 0.5014, Costo de Validación: 0.5351, Exactitud en Validación: 0.8400\n",
      "Época: 129/450, Costo de Entrenamiento: 0.5046, Costo de Validación: 0.5334, Exactitud en Validación: 0.8400\n",
      "Época: 130/450, Costo de Entrenamiento: 0.4993, Costo de Validación: 0.5332, Exactitud en Validación: 0.8400\n",
      "Validation loss not improved this epoch. Increasing patience counter.\n",
      "Época: 131/450, Costo de Entrenamiento: 0.4948, Costo de Validación: 0.5312, Exactitud en Validación: 0.8400\n",
      "Época: 132/450, Costo de Entrenamiento: 0.4953, Costo de Validación: 0.5305, Exactitud en Validación: 0.8400\n",
      "Época: 133/450, Costo de Entrenamiento: 0.4880, Costo de Validación: 0.5288, Exactitud en Validación: 0.8400\n",
      "Época: 134/450, Costo de Entrenamiento: 0.4920, Costo de Validación: 0.5279, Exactitud en Validación: 0.8400\n",
      "Época: 135/450, Costo de Entrenamiento: 0.4871, Costo de Validación: 0.5277, Exactitud en Validación: 0.8400\n",
      "Validation loss not improved this epoch. Increasing patience counter.\n",
      "Época: 136/450, Costo de Entrenamiento: 0.4854, Costo de Validación: 0.5262, Exactitud en Validación: 0.8400\n",
      "Época: 137/450, Costo de Entrenamiento: 0.4810, Costo de Validación: 0.5253, Exactitud en Validación: 0.8400\n",
      "Época: 138/450, Costo de Entrenamiento: 0.4816, Costo de Validación: 0.5234, Exactitud en Validación: 0.8400\n",
      "Época: 139/450, Costo de Entrenamiento: 0.4757, Costo de Validación: 0.5218, Exactitud en Validación: 0.8400\n",
      "Época: 140/450, Costo de Entrenamiento: 0.4793, Costo de Validación: 0.5217, Exactitud en Validación: 0.8400\n",
      "Validation loss not improved this epoch. Increasing patience counter.\n",
      "Época: 141/450, Costo de Entrenamiento: 0.4755, Costo de Validación: 0.5199, Exactitud en Validación: 0.8400\n",
      "Época: 142/450, Costo de Entrenamiento: 0.4716, Costo de Validación: 0.5197, Exactitud en Validación: 0.8400\n",
      "Validation loss not improved this epoch. Increasing patience counter.\n",
      "Época: 143/450, Costo de Entrenamiento: 0.4750, Costo de Validación: 0.5193, Exactitud en Validación: 0.8400\n",
      "Época: 144/450, Costo de Entrenamiento: 0.4723, Costo de Validación: 0.5176, Exactitud en Validación: 0.8400\n",
      "Época: 145/450, Costo de Entrenamiento: 0.4701, Costo de Validación: 0.5174, Exactitud en Validación: 0.8400\n",
      "Validation loss not improved this epoch. Increasing patience counter.\n",
      "Época: 146/450, Costo de Entrenamiento: 0.4680, Costo de Validación: 0.5156, Exactitud en Validación: 0.8400\n",
      "Época: 147/450, Costo de Entrenamiento: 0.4649, Costo de Validación: 0.5156, Exactitud en Validación: 0.8400\n",
      "Validation loss not improved this epoch. Increasing patience counter.\n",
      "Época: 148/450, Costo de Entrenamiento: 0.4593, Costo de Validación: 0.5132, Exactitud en Validación: 0.8400\n",
      "Época: 149/450, Costo de Entrenamiento: 0.4601, Costo de Validación: 0.5121, Exactitud en Validación: 0.8400\n",
      "Época: 150/450, Costo de Entrenamiento: 0.4690, Costo de Validación: 0.5126, Exactitud en Validación: 0.8400\n",
      "Validation loss not improved this epoch. Increasing patience counter.\n",
      "Época: 151/450, Costo de Entrenamiento: 0.4606, Costo de Validación: 0.5105, Exactitud en Validación: 0.8400\n",
      "Época: 152/450, Costo de Entrenamiento: 0.4569, Costo de Validación: 0.5092, Exactitud en Validación: 0.8400\n",
      "Época: 153/450, Costo de Entrenamiento: 0.4495, Costo de Validación: 0.5075, Exactitud en Validación: 0.8400\n",
      "Época: 154/450, Costo de Entrenamiento: 0.4519, Costo de Validación: 0.5062, Exactitud en Validación: 0.8400\n",
      "Época: 155/450, Costo de Entrenamiento: 0.4499, Costo de Validación: 0.5052, Exactitud en Validación: 0.8400\n",
      "Época: 156/450, Costo de Entrenamiento: 0.4482, Costo de Validación: 0.5046, Exactitud en Validación: 0.8400\n",
      "Época: 157/450, Costo de Entrenamiento: 0.4482, Costo de Validación: 0.5049, Exactitud en Validación: 0.8400\n",
      "Validation loss not improved this epoch. Increasing patience counter.\n",
      "Época: 158/450, Costo de Entrenamiento: 0.4490, Costo de Validación: 0.5042, Exactitud en Validación: 0.8400\n",
      "Validation loss not improved this epoch. Increasing patience counter.\n",
      "Época: 159/450, Costo de Entrenamiento: 0.4432, Costo de Validación: 0.5045, Exactitud en Validación: 0.8400\n",
      "Validation loss not improved this epoch. Increasing patience counter.\n",
      "Época: 160/450, Costo de Entrenamiento: 0.4508, Costo de Validación: 0.5051, Exactitud en Validación: 0.8400\n",
      "Validation loss not improved this epoch. Increasing patience counter.\n",
      "Época: 161/450, Costo de Entrenamiento: 0.4439, Costo de Validación: 0.5031, Exactitud en Validación: 0.8400\n",
      "Época: 162/450, Costo de Entrenamiento: 0.4341, Costo de Validación: 0.5002, Exactitud en Validación: 0.8400\n",
      "Época: 163/450, Costo de Entrenamiento: 0.4346, Costo de Validación: 0.5000, Exactitud en Validación: 0.8400\n",
      "Validation loss not improved this epoch. Increasing patience counter.\n",
      "Época: 164/450, Costo de Entrenamiento: 0.4405, Costo de Validación: 0.5000, Exactitud en Validación: 0.8400\n",
      "Validation loss not improved this epoch. Increasing patience counter.\n",
      "Época: 165/450, Costo de Entrenamiento: 0.4330, Costo de Validación: 0.4995, Exactitud en Validación: 0.8400\n",
      "Época: 166/450, Costo de Entrenamiento: 0.4376, Costo de Validación: 0.4971, Exactitud en Validación: 0.8400\n",
      "Época: 167/450, Costo de Entrenamiento: 0.4298, Costo de Validación: 0.4955, Exactitud en Validación: 0.8400\n",
      "Época: 168/450, Costo de Entrenamiento: 0.4302, Costo de Validación: 0.4951, Exactitud en Validación: 0.8400\n",
      "Validation loss not improved this epoch. Increasing patience counter.\n",
      "Época: 169/450, Costo de Entrenamiento: 0.4275, Costo de Validación: 0.4960, Exactitud en Validación: 0.8400\n",
      "Validation loss not improved this epoch. Increasing patience counter.\n",
      "Época: 170/450, Costo de Entrenamiento: 0.4230, Costo de Validación: 0.4936, Exactitud en Validación: 0.8400\n",
      "Época: 171/450, Costo de Entrenamiento: 0.4215, Costo de Validación: 0.4922, Exactitud en Validación: 0.8400\n",
      "Época: 172/450, Costo de Entrenamiento: 0.4366, Costo de Validación: 0.4911, Exactitud en Validación: 0.8400\n",
      "Época: 173/450, Costo de Entrenamiento: 0.4291, Costo de Validación: 0.4901, Exactitud en Validación: 0.8400\n",
      "Época: 174/450, Costo de Entrenamiento: 0.4194, Costo de Validación: 0.4890, Exactitud en Validación: 0.8400\n",
      "Época: 175/450, Costo de Entrenamiento: 0.4145, Costo de Validación: 0.4875, Exactitud en Validación: 0.8400\n",
      "Época: 176/450, Costo de Entrenamiento: 0.4082, Costo de Validación: 0.4873, Exactitud en Validación: 0.8400\n",
      "Validation loss not improved this epoch. Increasing patience counter.\n",
      "Época: 177/450, Costo de Entrenamiento: 0.4125, Costo de Validación: 0.4853, Exactitud en Validación: 0.8400\n",
      "Época: 178/450, Costo de Entrenamiento: 0.4068, Costo de Validación: 0.4862, Exactitud en Validación: 0.8400\n",
      "Validation loss not improved this epoch. Increasing patience counter.\n",
      "Época: 179/450, Costo de Entrenamiento: 0.4101, Costo de Validación: 0.4877, Exactitud en Validación: 0.8400\n",
      "Validation loss not improved this epoch. Increasing patience counter.\n",
      "Época: 180/450, Costo de Entrenamiento: 0.4059, Costo de Validación: 0.4868, Exactitud en Validación: 0.8400\n",
      "Validation loss not improved this epoch. Increasing patience counter.\n",
      "Época: 181/450, Costo de Entrenamiento: 0.4016, Costo de Validación: 0.4867, Exactitud en Validación: 0.8400\n",
      "Validation loss not improved this epoch. Increasing patience counter.\n",
      "Época: 182/450, Costo de Entrenamiento: 0.4041, Costo de Validación: 0.4877, Exactitud en Validación: 0.8400\n",
      "Validation loss not improved this epoch. Increasing patience counter.\n",
      "Max number of iterations without improvement reached. Stopping training.\n"
     ]
    }
   ],
   "source": [
    "# Bucle de entrenamiento\n",
    "epochs = 450\n",
    "max_patience = 5\n",
    "patience = 0\n",
    "patience_alpha = 0.001\n",
    "best_val_loss = np.inf\n",
    "train_losses = []\n",
    "val_losses = []\n",
    "val_accuracies = []\n",
    "\n",
    "for epoch in range(1, epochs + 1):\n",
    "    #  Entrenamiento\n",
    "    model.train()  # Establecer el modelo en modo de entrenamiento\n",
    "    train_loss = 0.0\n",
    "    for features, targets in train_loader:\n",
    "        optimizer.zero_grad()\n",
    "        outputs = model(features)\n",
    "        loss = loss_fn(outputs, targets.unsqueeze(1))\n",
    "        loss.backward()\n",
    "        optimizer.step()\n",
    "        train_loss += loss.item() * features.size(0)\n",
    "    train_loss /= len(train_loader.dataset)\n",
    "    train_losses.append(train_loss)\n",
    "    \n",
    "    # Validación\n",
    "    model.eval()  # Establecer el modelo en modo de evaluación\n",
    "    val_loss = 0.0\n",
    "    val_preds = []\n",
    "    val_targets = []\n",
    "    with torch.no_grad():\n",
    "        for features, targets in val_loader:\n",
    "            outputs = model(features)\n",
    "            loss = loss_fn(outputs, targets.unsqueeze(1))\n",
    "            val_loss += loss.item() * features.size(0)\n",
    "            val_preds.extend(outputs.round().squeeze().tolist())\n",
    "            val_targets.extend(targets.tolist())\n",
    "    val_loss /= len(val_loader.dataset)\n",
    "    val_losses.append(val_loss)\n",
    "    \n",
    "    # Calcula la precisión de la validación\n",
    "    val_accuracy = accuracy_score(val_targets, val_preds)\n",
    "    val_accuracies.append(val_accuracy)\n",
    "    \n",
    "    # Print estadísticas de entrenamiento/validación\n",
    "    print(f'Época: {epoch}/{epochs}, Costo de Entrenamiento: {train_loss:.4f}, '\n",
    "          f'Costo de Validación: {val_loss:.4f}, Exactitud en Validación: {val_accuracy:.4f}')\n",
    "    \n",
    "    # Callback early stopping\n",
    "    if val_loss < best_val_loss*(1-patience_alpha):\n",
    "        best_val_loss = val_loss\n",
    "        patience = 0\n",
    "    else:\n",
    "        print(f\"Validation loss not improved this epoch. Increasing patience counter.\")\n",
    "        patience += 1\n",
    "        if patience >= max_patience:\n",
    "            print(f\"Max number of iterations without improvement reached. Stopping training.\")\n",
    "            break"
   ]
  },
  {
   "cell_type": "code",
   "execution_count": 71,
   "metadata": {
    "ExecuteTime": {
     "end_time": "2024-04-26T22:13:20.427769Z",
     "start_time": "2024-04-26T22:13:20.245587Z"
    },
    "collapsed": false,
    "jupyter": {
     "outputs_hidden": false
    }
   },
   "outputs": [
    {
     "data": {
      "image/png": "[encoded data removed]",
      "text/plain": [
       "<Figure size 640x480 with 1 Axes>"
      ]
     },
     "metadata": {},
     "output_type": "display_data"
    }
   ],
   "source": [
    "# Graficamos el costo durante el entrenamiento\n",
    "graph = sns.lineplot(x=[x for x in range(0, epoch)], y=train_losses)\n",
    "sns.lineplot(x=[x for x in range(0, epoch)], y=val_losses)\n",
    "graph.set(title=\"Costo durante el entrenamiento\", xlabel='Épocas', ylabel='Entropía binaria')\n",
    "plt.show()"
   ]
  },
  {
   "cell_type": "markdown",
   "metadata": {
    "collapsed": false,
    "jupyter": {
     "outputs_hidden": false
    }
   },
   "source": [
    "Evaluamos el modelo con el set de evaluación:"
   ]
  },
  {
   "cell_type": "code",
   "execution_count": 49,
   "metadata": {
    "ExecuteTime": {
     "end_time": "2024-04-26T22:13:20.475239Z",
     "start_time": "2024-04-26T22:13:20.459537Z"
    },
    "collapsed": false,
    "jupyter": {
     "outputs_hidden": false
    }
   },
   "outputs": [],
   "source": [
    "# Evaluamos el modelo\n",
    "y_pred_list = []\n",
    "y_pred_proba_list = []\n",
    "model.eval()\n",
    "with torch.no_grad():\n",
    "    for X, y in test_loader:\n",
    "        y_test_pred = model(X)\n",
    "        y_pred_tag = torch.round(y_test_pred)\n",
    "        y_pred_list.append(y_pred_tag)\n",
    "        y_pred_proba_list.append(y_test_pred)\n",
    "\n",
    "# Convertimos a la salida en un solo tensor\n",
    "y_pred_tensor = torch.cat(y_pred_list).squeeze()\n",
    "y_pred_proba_tensor = torch.cat(y_pred_proba_list).squeeze()"
   ]
  },
  {
   "cell_type": "code",
   "execution_count": 50,
   "metadata": {
    "ExecuteTime": {
     "end_time": "2024-04-26T22:13:20.497656Z",
     "start_time": "2024-04-26T22:13:20.487904Z"
    },
    "collapsed": false,
    "jupyter": {
     "outputs_hidden": false
    }
   },
   "outputs": [
    {
     "name": "stdout",
     "output_type": "stream",
     "text": [
      "El porcentaje de exactitud es de: 77%\n",
      "F1-score de testeo fue: 0.7878787878787878\n"
     ]
    }
   ],
   "source": [
    "from sklearn.metrics import f1_score, accuracy_score\n",
    "\n",
    "print(f\"El porcentaje de exactitud es de:{accuracy_score(y_test, y_pred_tensor)*100: .0f}%\")\n",
    "print(f\"F1-score de testeo fue: {f1_score(y_test, y_pred_tensor)}\")"
   ]
  },
  {
   "cell_type": "markdown",
   "metadata": {
    "collapsed": false,
    "jupyter": {
     "outputs_hidden": false
    }
   },
   "source": [
    "Vemos que obtuvimos un resultado que mejoro cuando lo comparamos con respecto a SVC (0.86) y con respecto al arbol de clasificación (0.76)."
   ]
  },
  {
   "cell_type": "code",
   "execution_count": 65,
   "metadata": {
    "ExecuteTime": {
     "end_time": "2024-04-26T22:13:20.660263Z",
     "start_time": "2024-04-26T22:13:20.499549Z"
    },
    "collapsed": false,
    "jupyter": {
     "outputs_hidden": false
    }
   },
   "outputs": [
    {
     "data": {
      "image/png": "[encoded data removed]",
      "text/plain": [
       "<Figure size 500x500 with 1 Axes>"
      ]
     },
     "metadata": {},
     "output_type": "display_data"
    }
   ],
   "source": [
    "from sklearn.metrics import RocCurveDisplay\n",
    "\n",
    "fig, ax = plt.subplots(figsize=(5,5))\n",
    "svc_disp = RocCurveDisplay.from_predictions(y_test, y_pred_proba_tensor, ax=ax)\n",
    "\n",
    "plt.show();"
   ]
  }
 ],
 "metadata": {
  "kernelspec": {
   "display_name": ".venv",
   "language": "python",
   "name": "python3"
  },
  "language_info": {
   "codemirror_mode": {
    "name": "ipython",
    "version": 3
   },
   "file_extension": ".py",
   "mimetype": "text/x-python",
   "name": "python",
   "nbconvert_exporter": "python",
   "pygments_lexer": "ipython3",
   "version": "3.12.0"
  }
 },
 "nbformat": 4,
 "nbformat_minor": 4
}

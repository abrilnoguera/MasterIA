{
 "cells": [
  {
   "cell_type": "code",
   "execution_count": 1,
   "id": "initial_id",
   "metadata": {
    "ExecuteTime": {
     "end_time": "2024-06-09T01:58:29.871184Z",
     "start_time": "2024-06-09T01:58:29.864541Z"
    }
   },
   "outputs": [],
   "source": [
    "import pandas as pd\n",
    "import matplotlib.pyplot as plt\n",
    "import seaborn as sns\n",
    "\n",
    "from sklearn.datasets import fetch_california_housing\n",
    "from sklearn.metrics import (mean_absolute_error, r2_score,\n",
    "                             root_mean_squared_error, \n",
    "                             mean_absolute_percentage_error)\n",
    "from sklearn.model_selection import train_test_split\n",
    "\n",
    "sns.set()"
   ]
  },
  {
   "cell_type": "markdown",
   "id": "e6a28097b4ce8a21",
   "metadata": {},
   "source": [
    "# Bagging, Random Forest y Boosting\n",
    "\n",
    "En el ámbito del aprendizaje automático, Bagging, Random Forest y Boosting son técnicas fundamentales que se utilizan para mejorar la precisión y robustez de los modelos predictivos. Estas metodologías se centran en el concepto de combinación de múltiples modelos de aprendizaje para reducir la variabilidad y mejorar la generalización en la predicción de datos. \n",
    "\n",
    "- Bagging se basa en el entrenamiento de múltiples modelos en conjuntos de datos re-muestrados.\n",
    "- Random Forest combina múltiples árboles de decisión para obtener una predicción más precisa\n",
    "- Boosting secuencialmente fortalece un modelo débil mediante la ponderación de los errores de predicción. \n",
    "\n",
    "En este contexto, exploraremos estas técnicas, y para simplificar el análisis usaremos siempre modelos de arboles.\n",
    "\n",
    "## California Housing Prices\n",
    "\n",
    "Este es un popular [dataset](https://scikit-learn.org/stable/datasets/real_world.html#california-housing-dataset) que vamos a estar leyendo desde **Scikit-Learn**.\n",
    "\n",
    "Se requiere construir una regresión que nos permita predecir el valor de valor medio de casas en distritos de California (medidos en ciento de miles de dólares $100.000). Este dataset deriva del censo de 1990 de EEUU, donde cada observación es un bloque. Un bloque es la unidad geográfica más pequeña para la cual la Oficina del Censo de EE. UU. publica datos de muestra (un bloque típicamente tiene una población de 600 a 3,000 personas).\n",
    "\n",
    "Un hogar es un grupo de personas que residen dentro de una casa. Dado que el número promedio de habitaciones y dormitorios en este conjunto de datos se proporciona por hogar, estas columnas pueden tomar valores grandes para grupos de bloques con pocos hogares y muchas casas vacías.\n",
    "\n",
    "Los atributos en el orden que se guardaron en el dataset son:\n",
    "\n",
    "- `MedInc`: Ingreso medio en el bloque\n",
    "- `HouseAge`: Edad mediana de las casas en el bloque\n",
    "- `AveRooms`: Número promedio de habitaciones por hogar.\n",
    "- `AveBedrms`: Número promedio de dormitorios por hogar.\n",
    "- `Population`: Población del bloque\n",
    "- `AveOccup`: Número promedio de miembros por hogar.\n",
    "- `Latitude`: Latitud del bloque\n",
    "- `Longitude`: Longitud del bloque\n",
    "\n",
    "No vamos a realizar la exploración de los datos para ir directamente al modelado. Se deja al alumno esta parte, aunque probablemente ya lo haya hecho en Inteligencia Artificial. Para arrancar vamos a tomar dos modelos y ver su predicción, como métrica comparativa."
   ]
  },
  {
   "cell_type": "code",
   "execution_count": 2,
   "id": "7309a75d2dabf27e",
   "metadata": {
    "ExecuteTime": {
     "end_time": "2024-06-09T01:58:30.471143Z",
     "start_time": "2024-06-09T01:58:30.455390Z"
    }
   },
   "outputs": [],
   "source": [
    "from sklearn.preprocessing import StandardScaler\n",
    "\n",
    "# Cargamos el dataset California Housing Prices\n",
    "california_data = fetch_california_housing()\n",
    "\n",
    "X = california_data.data\n",
    "y = california_data.target\n",
    "\n",
    "# Separamos el dataset\n",
    "X_train, X_test, y_train, y_test = train_test_split(california_data.data, california_data.target, test_size=0.2, random_state=42)"
   ]
  },
  {
   "cell_type": "code",
   "execution_count": 3,
   "id": "1250e5e7b85149e0",
   "metadata": {
    "ExecuteTime": {
     "end_time": "2024-06-09T01:58:30.827369Z",
     "start_time": "2024-06-09T01:58:30.820077Z"
    }
   },
   "outputs": [],
   "source": [
    "from sklearn.linear_model import LinearRegression\n",
    "from sklearn.tree import DecisionTreeRegressor"
   ]
  },
  {
   "cell_type": "code",
   "execution_count": 4,
   "id": "e65b5bf8e54c70f9",
   "metadata": {
    "ExecuteTime": {
     "end_time": "2024-06-09T01:58:31.199786Z",
     "start_time": "2024-06-09T01:58:31.108058Z"
    }
   },
   "outputs": [
    {
     "data": {
      "text/plain": [
       "{'name': 'Regresión lineal',\n",
       " 'MAE_training': 0.5286283596582387,\n",
       " 'MAE': 0.5332001304956989,\n",
       " 'RMSE': 0.7455813830127751,\n",
       " 'MAPE': 0.31952187413621747,\n",
       " 'R2': 0.5757877060324521}"
      ]
     },
     "execution_count": 4,
     "metadata": {},
     "output_type": "execute_result"
    }
   ],
   "source": [
    "# Entrenamos la regresión lineal\n",
    "linear_regressor = LinearRegression()\n",
    "linear_regressor.fit(X_train, y_train)\n",
    "\n",
    "# Calculamos las métricas\n",
    "y_pred_linear = linear_regressor.predict(X_test)\n",
    "\n",
    "metrics_linear = {\n",
    "    \"name\": \"Regresión lineal\",\n",
    "    \"MAE_training\": mean_absolute_error(y_train, linear_regressor.predict(X_train)),\n",
    "    \"MAE\": mean_absolute_error(y_test, y_pred_linear),\n",
    "    \"RMSE\": root_mean_squared_error(y_test, y_pred_linear),\n",
    "    \"MAPE\": mean_absolute_percentage_error(y_test, y_pred_linear),    \n",
    "    \"R2\": r2_score(y_test, y_pred_linear)\n",
    "}\n",
    "\n",
    "metrics_linear"
   ]
  },
  {
   "cell_type": "code",
   "execution_count": 5,
   "id": "4ae256af4e3fc997",
   "metadata": {
    "ExecuteTime": {
     "end_time": "2024-06-09T01:58:31.593548Z",
     "start_time": "2024-06-09T01:58:31.467581Z"
    }
   },
   "outputs": [
    {
     "data": {
      "text/plain": [
       "{'name': 'Arbol de regresión',\n",
       " 'MAE_training': 0.32841050485139817,\n",
       " 'MAE': 0.40261761222892817,\n",
       " 'RMSE': 0.5959436899267222,\n",
       " 'MAPE': 0.23070061574761228,\n",
       " 'R2': 0.7289785956440629}"
      ]
     },
     "execution_count": 5,
     "metadata": {},
     "output_type": "execute_result"
    }
   ],
   "source": [
    "# Entrenamos el arbol de regresión\n",
    "tree_regressor = DecisionTreeRegressor(splitter='best', max_depth=13, min_samples_split=2,\n",
    "                                       min_samples_leaf=16, random_state=42)\n",
    "\n",
    "tree_regressor.fit(X_train, y_train)\n",
    "\n",
    "# Calculamos las métricas\n",
    "y_pred_tree = tree_regressor.predict(X_test)\n",
    "\n",
    "metrics_tree = {\n",
    "    \"name\": \"Arbol de regresión\",\n",
    "    \"MAE_training\": mean_absolute_error(y_train, tree_regressor.predict(X_train)),\n",
    "    \"MAE\": mean_absolute_error(y_test, y_pred_tree),\n",
    "    \"RMSE\": root_mean_squared_error(y_test, y_pred_tree),\n",
    "    \"MAPE\": mean_absolute_percentage_error(y_test, y_pred_tree),    \n",
    "    \"R2\": r2_score(y_test, y_pred_tree)\n",
    "}\n",
    "\n",
    "metrics_tree"
   ]
  },
  {
   "cell_type": "markdown",
   "id": "c1db75a8a42a467b",
   "metadata": {},
   "source": [
    "## Bagging\n",
    "\n",
    "Empezamos con nuestro primer modelo de ensamble usando bagging. En esta técnica, creamos múltiples instancias del mismo modelo base, en este caso, árboles de regresión, pero los entrenamos en diferentes conjuntos de datos de entrenamiento generados aleatoriamente a partir del conjunto de datos de entrenamiento original mediante el muestreo con reemplazo. Luego, combinamos las predicciones de estos modelos mediante promediado (en el caso de regresión) o votación (en el caso de clasificación) para obtener una predicción final. \n",
    "\n",
    "Esto ayuda a reducir la varianza del modelo, buscando mejorar su capacidad de generalización.\n",
    "\n",
    "En Scikit-Learn, tenemos la clase [BaggingRegressor](https://scikit-learn.org/stable/modules/generated/sklearn.ensemble.BaggingRegressor.html) para armar este modelo."
   ]
  },
  {
   "cell_type": "code",
   "execution_count": 6,
   "id": "17c3a915eca4e50",
   "metadata": {
    "ExecuteTime": {
     "end_time": "2024-06-09T01:58:34.566870Z",
     "start_time": "2024-06-09T01:58:31.891344Z"
    }
   },
   "outputs": [
    {
     "data": {
      "text/plain": [
       "{'name': 'Bagging',\n",
       " 'MAE_training': 0.1307527402192345,\n",
       " 'MAE': 0.3360997234738372,\n",
       " 'RMSE': 0.5140528792894368,\n",
       " 'MAPE': 0.1935607426982721,\n",
       " 'R2': 0.7983451219477362}"
      ]
     },
     "execution_count": 6,
     "metadata": {},
     "output_type": "execute_result"
    }
   ],
   "source": [
    "from sklearn.ensemble import BaggingRegressor\n",
    "\n",
    "# Creamos un Bagging con 20 estimadores (20 árboles)\n",
    "bagging_regressor = BaggingRegressor(estimator=DecisionTreeRegressor(), n_estimators=20, random_state=42, n_jobs=-1)\n",
    "bagging_regressor.fit(X_train, y_train)\n",
    "\n",
    "# Calculamos las métricas\n",
    "y_pred_bag = bagging_regressor.predict(X_test)\n",
    "\n",
    "metrics_bag = {\n",
    "    \"name\": \"Bagging\",\n",
    "    \"MAE_training\": mean_absolute_error(y_train, bagging_regressor.predict(X_train)),\n",
    "    \"MAE\": mean_absolute_error(y_test, y_pred_bag),\n",
    "    \"RMSE\": root_mean_squared_error(y_test, y_pred_bag),\n",
    "    \"MAPE\": mean_absolute_percentage_error(y_test, y_pred_bag),    \n",
    "    \"R2\": r2_score(y_test, y_pred_bag)\n",
    "}\n",
    "\n",
    "metrics_bag"
   ]
  },
  {
   "cell_type": "code",
   "execution_count": 7,
   "id": "c38279776f034bd7",
   "metadata": {
    "ExecuteTime": {
     "end_time": "2024-06-09T01:58:34.577590Z",
     "start_time": "2024-06-09T01:58:34.568851Z"
    }
   },
   "outputs": [
    {
     "data": {
      "text/html": [
       "<div>\n",
       "<style scoped>\n",
       "    .dataframe tbody tr th:only-of-type {\n",
       "        vertical-align: middle;\n",
       "    }\n",
       "\n",
       "    .dataframe tbody tr th {\n",
       "        vertical-align: top;\n",
       "    }\n",
       "\n",
       "    .dataframe thead th {\n",
       "        text-align: right;\n",
       "    }\n",
       "</style>\n",
       "<table border=\"1\" class=\"dataframe\">\n",
       "  <thead>\n",
       "    <tr style=\"text-align: right;\">\n",
       "      <th></th>\n",
       "      <th>name</th>\n",
       "      <th>MAE_training</th>\n",
       "      <th>MAE</th>\n",
       "      <th>RMSE</th>\n",
       "      <th>MAPE</th>\n",
       "      <th>R2</th>\n",
       "    </tr>\n",
       "  </thead>\n",
       "  <tbody>\n",
       "    <tr>\n",
       "      <th>2</th>\n",
       "      <td>Bagging</td>\n",
       "      <td>0.130753</td>\n",
       "      <td>0.336100</td>\n",
       "      <td>0.514053</td>\n",
       "      <td>0.193561</td>\n",
       "      <td>0.798345</td>\n",
       "    </tr>\n",
       "    <tr>\n",
       "      <th>1</th>\n",
       "      <td>Arbol de regresión</td>\n",
       "      <td>0.328411</td>\n",
       "      <td>0.402618</td>\n",
       "      <td>0.595944</td>\n",
       "      <td>0.230701</td>\n",
       "      <td>0.728979</td>\n",
       "    </tr>\n",
       "    <tr>\n",
       "      <th>0</th>\n",
       "      <td>Regresión lineal</td>\n",
       "      <td>0.528628</td>\n",
       "      <td>0.533200</td>\n",
       "      <td>0.745581</td>\n",
       "      <td>0.319522</td>\n",
       "      <td>0.575788</td>\n",
       "    </tr>\n",
       "  </tbody>\n",
       "</table>\n",
       "</div>"
      ],
      "text/plain": [
       "                 name  MAE_training       MAE      RMSE      MAPE        R2\n",
       "2             Bagging      0.130753  0.336100  0.514053  0.193561  0.798345\n",
       "1  Arbol de regresión      0.328411  0.402618  0.595944  0.230701  0.728979\n",
       "0    Regresión lineal      0.528628  0.533200  0.745581  0.319522  0.575788"
      ]
     },
     "execution_count": 7,
     "metadata": {},
     "output_type": "execute_result"
    }
   ],
   "source": [
    "metrics = pd.DataFrame([metrics_linear, metrics_tree, metrics_bag])\n",
    "metrics.sort_values(by=['MAE'], ascending=True)"
   ]
  },
  {
   "cell_type": "markdown",
   "id": "d3c63ec0752952a1",
   "metadata": {},
   "source": [
    "Aquí vemos un efecto positivo de usar Bagging, el cual mejora en un 37% con respecto a la regresión lineal y un 17% con solo un arbol."
   ]
  },
  {
   "cell_type": "markdown",
   "id": "fcd6a8f3495ae1b6",
   "metadata": {},
   "source": [
    "## Random Forest\n",
    "\n",
    "Continuamos nuestra exploración con Random Forest, una técnica de ensamblado que se basa en la construcción de múltiples árboles de decisión durante el proceso de entrenamiento. Al igual que en Bagging, utilizamos árboles de regresión como nuestro modelo base. Sin embargo, en Random Forest, cada árbol se entrena en un subconjunto aleatorio de características seleccionadas al azar del conjunto de datos de entrenamiento. Además, se introduce aleatoriedad en la selección de muestras durante la construcción de cada árbol, lo que aumenta la diversidad entre los árboles individuales. Luego, las predicciones de todos los árboles se combinan mediante promediado para obtener una predicción final. Esta técnica ayuda a reducir aún más la correlación entre los árboles y proporciona una mejor generalización.\n",
    "\n",
    "En Scikit-Learn, tenemos la clase [RandomForestRegressor](https://scikit-learn.org/stable/modules/generated/sklearn.ensemble.RandomForestRegressor.html):"
   ]
  },
  {
   "cell_type": "code",
   "execution_count": 8,
   "id": "1006bc5c886a9de7",
   "metadata": {
    "ExecuteTime": {
     "end_time": "2024-06-09T01:58:43.366388Z",
     "start_time": "2024-06-09T01:58:34.579216Z"
    }
   },
   "outputs": [],
   "source": [
    "from sklearn.ensemble import RandomForestRegressor\n",
    "\n",
    "# Creamos un bosque aleatorio por defecto (100 árboles)\n",
    "rf_regressor = RandomForestRegressor(random_state=42)\n",
    "rf_regressor.fit(X_train, y_train)\n",
    "\n",
    "# Calculamos las métricas\n",
    "y_pred_rf = rf_regressor.predict(X_test)\n",
    "\n",
    "metrics_rf = {\n",
    "    \"name\": \"Random Forest\",\n",
    "    \"MAE_training\": mean_absolute_error(y_train, rf_regressor.predict(X_train)),\n",
    "    \"MAE\": mean_absolute_error(y_test, y_pred_rf),\n",
    "    \"RMSE\": root_mean_squared_error(y_test, y_pred_rf),\n",
    "    \"MAPE\": mean_absolute_percentage_error(y_test, y_pred_rf),    \n",
    "    \"R2\": r2_score(y_test, y_pred_rf)\n",
    "}"
   ]
  },
  {
   "cell_type": "code",
   "execution_count": 9,
   "id": "473c01787cca9c4f",
   "metadata": {
    "ExecuteTime": {
     "end_time": "2024-06-09T01:58:43.372742Z",
     "start_time": "2024-06-09T01:58:43.367834Z"
    }
   },
   "outputs": [
    {
     "data": {
      "text/html": [
       "<div>\n",
       "<style scoped>\n",
       "    .dataframe tbody tr th:only-of-type {\n",
       "        vertical-align: middle;\n",
       "    }\n",
       "\n",
       "    .dataframe tbody tr th {\n",
       "        vertical-align: top;\n",
       "    }\n",
       "\n",
       "    .dataframe thead th {\n",
       "        text-align: right;\n",
       "    }\n",
       "</style>\n",
       "<table border=\"1\" class=\"dataframe\">\n",
       "  <thead>\n",
       "    <tr style=\"text-align: right;\">\n",
       "      <th></th>\n",
       "      <th>name</th>\n",
       "      <th>MAE_training</th>\n",
       "      <th>MAE</th>\n",
       "      <th>RMSE</th>\n",
       "      <th>MAPE</th>\n",
       "      <th>R2</th>\n",
       "    </tr>\n",
       "  </thead>\n",
       "  <tbody>\n",
       "    <tr>\n",
       "      <th>3</th>\n",
       "      <td>Random Forest</td>\n",
       "      <td>0.122057</td>\n",
       "      <td>0.327543</td>\n",
       "      <td>0.505340</td>\n",
       "      <td>0.189151</td>\n",
       "      <td>0.805123</td>\n",
       "    </tr>\n",
       "    <tr>\n",
       "      <th>2</th>\n",
       "      <td>Bagging</td>\n",
       "      <td>0.130753</td>\n",
       "      <td>0.336100</td>\n",
       "      <td>0.514053</td>\n",
       "      <td>0.193561</td>\n",
       "      <td>0.798345</td>\n",
       "    </tr>\n",
       "    <tr>\n",
       "      <th>1</th>\n",
       "      <td>Arbol de regresión</td>\n",
       "      <td>0.328411</td>\n",
       "      <td>0.402618</td>\n",
       "      <td>0.595944</td>\n",
       "      <td>0.230701</td>\n",
       "      <td>0.728979</td>\n",
       "    </tr>\n",
       "    <tr>\n",
       "      <th>0</th>\n",
       "      <td>Regresión lineal</td>\n",
       "      <td>0.528628</td>\n",
       "      <td>0.533200</td>\n",
       "      <td>0.745581</td>\n",
       "      <td>0.319522</td>\n",
       "      <td>0.575788</td>\n",
       "    </tr>\n",
       "  </tbody>\n",
       "</table>\n",
       "</div>"
      ],
      "text/plain": [
       "                 name  MAE_training       MAE      RMSE      MAPE        R2\n",
       "3       Random Forest      0.122057  0.327543  0.505340  0.189151  0.805123\n",
       "2             Bagging      0.130753  0.336100  0.514053  0.193561  0.798345\n",
       "1  Arbol de regresión      0.328411  0.402618  0.595944  0.230701  0.728979\n",
       "0    Regresión lineal      0.528628  0.533200  0.745581  0.319522  0.575788"
      ]
     },
     "execution_count": 9,
     "metadata": {},
     "output_type": "execute_result"
    }
   ],
   "source": [
    "metrics = pd.DataFrame([metrics_linear, metrics_tree, metrics_bag, metrics_rf])\n",
    "metrics.sort_values(by=['MAE'], ascending=True)"
   ]
  },
  {
   "cell_type": "markdown",
   "id": "d8d3423949eeeb16",
   "metadata": {},
   "source": [
    "Vemos que mejoramos la métrica, aunque estamos en el mismo orden que Bagging.\n",
    "\n",
    "## Boosting\n",
    "\n",
    "Ahora veamos Boosting, con AdaBoost como punto de partida. En AdaBoost, también conocido como Adaptive Boosting, se utiliza un conjunto de modelos base, inicialmente débiles, como árboles de regresión. Cada modelo se ajusta secuencialmente a los datos, con un énfasis adicional en las instancias mal clasificadas en el conjunto de entrenamiento anterior. Esto se logra asignando pesos a cada instancia, donde las instancias mal clasificadas reciben pesos más altos para que los modelos posteriores se concentren más en ellas. Luego, las predicciones de todos los modelos se combinan ponderadamente para obtener una predicción final, donde los modelos con un mejor desempeño tienen un mayor peso en la predicción. "
   ]
  },
  {
   "cell_type": "code",
   "execution_count": 10,
   "id": "9a7e8c529db74a66",
   "metadata": {
    "ExecuteTime": {
     "end_time": "2024-06-09T01:59:07.947782Z",
     "start_time": "2024-06-09T01:58:43.373630Z"
    }
   },
   "outputs": [],
   "source": [
    "from sklearn.ensemble import AdaBoostRegressor\n",
    "\n",
    "# Inicializamos el árbol (weak learner)\n",
    "base_estimator = DecisionTreeRegressor(max_depth=6)\n",
    "\n",
    "# Configuramos también la cantidad y la constante de aprendizaje\n",
    "adaboost_regressor = AdaBoostRegressor(estimator=base_estimator, n_estimators=500, random_state=42, learning_rate=0.01)\n",
    "adaboost_regressor.fit(X_train, y_train)\n",
    "\n",
    "# Calculamos las métricas\n",
    "y_pred_ada = adaboost_regressor.predict(X_test)\n",
    "\n",
    "metrics_ada = {\n",
    "    \"name\": \"AdaBoost\",\n",
    "    \"MAE_training\": mean_absolute_error(y_train, adaboost_regressor.predict(X_train)),\n",
    "    \"MAE\": mean_absolute_error(y_test, y_pred_ada),\n",
    "    \"RMSE\": root_mean_squared_error(y_test, y_pred_ada),\n",
    "    \"MAPE\": mean_absolute_percentage_error(y_test, y_pred_ada),    \n",
    "    \"R2\": r2_score(y_test, y_pred_ada)\n",
    "}"
   ]
  },
  {
   "cell_type": "code",
   "execution_count": 11,
   "id": "2d85de594e643088",
   "metadata": {
    "ExecuteTime": {
     "end_time": "2024-06-09T01:59:07.956712Z",
     "start_time": "2024-06-09T01:59:07.949002Z"
    }
   },
   "outputs": [
    {
     "data": {
      "text/html": [
       "<div>\n",
       "<style scoped>\n",
       "    .dataframe tbody tr th:only-of-type {\n",
       "        vertical-align: middle;\n",
       "    }\n",
       "\n",
       "    .dataframe tbody tr th {\n",
       "        vertical-align: top;\n",
       "    }\n",
       "\n",
       "    .dataframe thead th {\n",
       "        text-align: right;\n",
       "    }\n",
       "</style>\n",
       "<table border=\"1\" class=\"dataframe\">\n",
       "  <thead>\n",
       "    <tr style=\"text-align: right;\">\n",
       "      <th></th>\n",
       "      <th>name</th>\n",
       "      <th>MAE_training</th>\n",
       "      <th>MAE</th>\n",
       "      <th>RMSE</th>\n",
       "      <th>MAPE</th>\n",
       "      <th>R2</th>\n",
       "    </tr>\n",
       "  </thead>\n",
       "  <tbody>\n",
       "    <tr>\n",
       "      <th>3</th>\n",
       "      <td>Random Forest</td>\n",
       "      <td>0.122057</td>\n",
       "      <td>0.327543</td>\n",
       "      <td>0.505340</td>\n",
       "      <td>0.189151</td>\n",
       "      <td>0.805123</td>\n",
       "    </tr>\n",
       "    <tr>\n",
       "      <th>2</th>\n",
       "      <td>Bagging</td>\n",
       "      <td>0.130753</td>\n",
       "      <td>0.336100</td>\n",
       "      <td>0.514053</td>\n",
       "      <td>0.193561</td>\n",
       "      <td>0.798345</td>\n",
       "    </tr>\n",
       "    <tr>\n",
       "      <th>1</th>\n",
       "      <td>Arbol de regresión</td>\n",
       "      <td>0.328411</td>\n",
       "      <td>0.402618</td>\n",
       "      <td>0.595944</td>\n",
       "      <td>0.230701</td>\n",
       "      <td>0.728979</td>\n",
       "    </tr>\n",
       "    <tr>\n",
       "      <th>4</th>\n",
       "      <td>AdaBoost</td>\n",
       "      <td>0.441578</td>\n",
       "      <td>0.460497</td>\n",
       "      <td>0.624817</td>\n",
       "      <td>0.307966</td>\n",
       "      <td>0.702080</td>\n",
       "    </tr>\n",
       "    <tr>\n",
       "      <th>0</th>\n",
       "      <td>Regresión lineal</td>\n",
       "      <td>0.528628</td>\n",
       "      <td>0.533200</td>\n",
       "      <td>0.745581</td>\n",
       "      <td>0.319522</td>\n",
       "      <td>0.575788</td>\n",
       "    </tr>\n",
       "  </tbody>\n",
       "</table>\n",
       "</div>"
      ],
      "text/plain": [
       "                 name  MAE_training       MAE      RMSE      MAPE        R2\n",
       "3       Random Forest      0.122057  0.327543  0.505340  0.189151  0.805123\n",
       "2             Bagging      0.130753  0.336100  0.514053  0.193561  0.798345\n",
       "1  Arbol de regresión      0.328411  0.402618  0.595944  0.230701  0.728979\n",
       "4            AdaBoost      0.441578  0.460497  0.624817  0.307966  0.702080\n",
       "0    Regresión lineal      0.528628  0.533200  0.745581  0.319522  0.575788"
      ]
     },
     "execution_count": 11,
     "metadata": {},
     "output_type": "execute_result"
    }
   ],
   "source": [
    "metrics = pd.DataFrame([metrics_linear, metrics_tree, metrics_bag, metrics_rf, metrics_ada])\n",
    "metrics.sort_values(by=['MAE'], ascending=True)"
   ]
  },
  {
   "cell_type": "markdown",
   "id": "8cc95ce993b4194c",
   "metadata": {},
   "source": [
    "Vemos que el resultado fue bastante malo. Esto es la evidencia de lo poco que es usa AdaBoost, sumado a que quizas trabajando más con los parámetros se podria mejorar, pero en vez de eso podemos pasar a una implementación más avanzada.\n",
    "\n",
    "### XGBoost\n",
    "\n",
    "XGBoost es una implementación avanzada de Boosting, que utiliza árboles de decisión como modelos base y emplea técnicas como la regularización y la poda para mejorar aún más la capacidad de generalización del modelo y la eficiencia computacional. XGBoost se ha convertido en una opción popular debido a su rendimiento superior en una variedad de problemas.\n",
    "\n",
    "Para ello debemos instalar la libreria [XGBoost](https://xgboost.readthedocs.io/en/stable/), usando el gestor de paquetes de preferencia, tales como:\n",
    "\n",
    "```bash\n",
    "conda install conda-forge::xgboost\n",
    "``` \n",
    "\n",
    "```bash\n",
    "pip install xgboost\n",
    "``` \n",
    "\n",
    "```bash\n",
    "poetry add xgboost\n",
    "``` "
   ]
  },
  {
   "cell_type": "code",
   "execution_count": 12,
   "id": "990438d9beac9816",
   "metadata": {
    "ExecuteTime": {
     "end_time": "2024-06-09T01:59:08.228703Z",
     "start_time": "2024-06-09T01:59:07.957764Z"
    }
   },
   "outputs": [],
   "source": [
    "import xgboost as xgb\n",
    "\n",
    "# Inicializamos XGBoost con sus hiperparámetros por defecto\n",
    "xgb_regressor = xgb.XGBRegressor(objective='reg:squarederror', random_state=42, n_jobs=-1)\n",
    "xgb_regressor.fit(X_train, y_train)\n",
    "\n",
    "# Calculamos las métricas\n",
    "y_pred_xgb = xgb_regressor.predict(X_test)\n",
    "\n",
    "metrics_xgb = {\n",
    "    \"name\": \"XGBoost\",\n",
    "    \"MAE_training\": mean_absolute_error(y_train, xgb_regressor.predict(X_train)),\n",
    "    \"MAE\": mean_absolute_error(y_test, y_pred_xgb),\n",
    "    \"RMSE\": root_mean_squared_error(y_test, y_pred_xgb),\n",
    "    \"MAPE\": mean_absolute_percentage_error(y_test, y_pred_xgb),    \n",
    "    \"R2\": r2_score(y_test, y_pred_xgb)\n",
    "}"
   ]
  },
  {
   "cell_type": "code",
   "execution_count": 14,
   "id": "cbfa1ad082955238",
   "metadata": {
    "ExecuteTime": {
     "end_time": "2024-06-09T01:59:08.236209Z",
     "start_time": "2024-06-09T01:59:08.229627Z"
    }
   },
   "outputs": [
    {
     "data": {
      "text/html": [
       "<div>\n",
       "<style scoped>\n",
       "    .dataframe tbody tr th:only-of-type {\n",
       "        vertical-align: middle;\n",
       "    }\n",
       "\n",
       "    .dataframe tbody tr th {\n",
       "        vertical-align: top;\n",
       "    }\n",
       "\n",
       "    .dataframe thead th {\n",
       "        text-align: right;\n",
       "    }\n",
       "</style>\n",
       "<table border=\"1\" class=\"dataframe\">\n",
       "  <thead>\n",
       "    <tr style=\"text-align: right;\">\n",
       "      <th></th>\n",
       "      <th>name</th>\n",
       "      <th>MAE_training</th>\n",
       "      <th>MAE</th>\n",
       "      <th>RMSE</th>\n",
       "      <th>MAPE</th>\n",
       "      <th>R2</th>\n",
       "    </tr>\n",
       "  </thead>\n",
       "  <tbody>\n",
       "    <tr>\n",
       "      <th>5</th>\n",
       "      <td>XGBoost</td>\n",
       "      <td>0.192576</td>\n",
       "      <td>0.309573</td>\n",
       "      <td>0.471794</td>\n",
       "      <td>0.178295</td>\n",
       "      <td>0.830137</td>\n",
       "    </tr>\n",
       "    <tr>\n",
       "      <th>3</th>\n",
       "      <td>Random Forest</td>\n",
       "      <td>0.122057</td>\n",
       "      <td>0.327543</td>\n",
       "      <td>0.505340</td>\n",
       "      <td>0.189151</td>\n",
       "      <td>0.805123</td>\n",
       "    </tr>\n",
       "    <tr>\n",
       "      <th>2</th>\n",
       "      <td>Bagging</td>\n",
       "      <td>0.130753</td>\n",
       "      <td>0.336100</td>\n",
       "      <td>0.514053</td>\n",
       "      <td>0.193561</td>\n",
       "      <td>0.798345</td>\n",
       "    </tr>\n",
       "    <tr>\n",
       "      <th>1</th>\n",
       "      <td>Arbol de regresión</td>\n",
       "      <td>0.328411</td>\n",
       "      <td>0.402618</td>\n",
       "      <td>0.595944</td>\n",
       "      <td>0.230701</td>\n",
       "      <td>0.728979</td>\n",
       "    </tr>\n",
       "    <tr>\n",
       "      <th>4</th>\n",
       "      <td>AdaBoost</td>\n",
       "      <td>0.441578</td>\n",
       "      <td>0.460497</td>\n",
       "      <td>0.624817</td>\n",
       "      <td>0.307966</td>\n",
       "      <td>0.702080</td>\n",
       "    </tr>\n",
       "    <tr>\n",
       "      <th>0</th>\n",
       "      <td>Regresión lineal</td>\n",
       "      <td>0.528628</td>\n",
       "      <td>0.533200</td>\n",
       "      <td>0.745581</td>\n",
       "      <td>0.319522</td>\n",
       "      <td>0.575788</td>\n",
       "    </tr>\n",
       "  </tbody>\n",
       "</table>\n",
       "</div>"
      ],
      "text/plain": [
       "                 name  MAE_training       MAE      RMSE      MAPE        R2\n",
       "5             XGBoost      0.192576  0.309573  0.471794  0.178295  0.830137\n",
       "3       Random Forest      0.122057  0.327543  0.505340  0.189151  0.805123\n",
       "2             Bagging      0.130753  0.336100  0.514053  0.193561  0.798345\n",
       "1  Arbol de regresión      0.328411  0.402618  0.595944  0.230701  0.728979\n",
       "4            AdaBoost      0.441578  0.460497  0.624817  0.307966  0.702080\n",
       "0    Regresión lineal      0.528628  0.533200  0.745581  0.319522  0.575788"
      ]
     },
     "execution_count": 14,
     "metadata": {},
     "output_type": "execute_result"
    }
   ],
   "source": [
    "metrics = pd.DataFrame([metrics_linear, metrics_tree, metrics_bag, metrics_rf, metrics_ada, metrics_xgb])\n",
    "metrics.sort_values(by=['MAE'], ascending=True)"
   ]
  },
  {
   "cell_type": "markdown",
   "id": "21487aa56582790a",
   "metadata": {},
   "source": [
    "Como vemos el mejor modelo fue XGBoost, con muy cerca los bosques aleatorios. Si se observa una mejora sustancial con respecto a los modelos más simples. \n",
    "\n",
    "Por último, lo interesante de estos métodos de ensamble es que nos ofrecen formas de ver la importancia de los diferentes atributos y nos dan explicabilidad juntos a buenos resultados."
   ]
  },
  {
   "cell_type": "code",
   "execution_count": 15,
   "id": "a07f28ddcbe7ab4c",
   "metadata": {
    "ExecuteTime": {
     "end_time": "2024-06-09T02:11:54.905070Z",
     "start_time": "2024-06-09T02:11:54.817028Z"
    }
   },
   "outputs": [
    {
     "data": {
      "image/png": "[encoded data removed]",
      "text/plain": [
       "<Figure size 1000x600 with 1 Axes>"
      ]
     },
     "metadata": {},
     "output_type": "display_data"
    }
   ],
   "source": [
    "# Obtenemos la importancia de características\n",
    "feature_importances = xgb_regressor.feature_importances_\n",
    "feature_names = california_data.feature_names\n",
    "\n",
    "# Ordenamos los índices\n",
    "sorted_idx = feature_importances.argsort()\n",
    "\n",
    "plt.figure(figsize=(10, 6))\n",
    "plt.barh(range(len(sorted_idx)), feature_importances[sorted_idx], align='center')\n",
    "plt.yticks(range(len(sorted_idx)), [feature_names[i] for i in sorted_idx])\n",
    "plt.xlabel('Feature Importance')\n",
    "plt.show()"
   ]
  },
  {
   "cell_type": "markdown",
   "id": "6e2ac66bd0eef607",
   "metadata": {},
   "source": [
    "Aquí nos indica que lo que definen principalmente el precio en california es el ingreso medio en el bloque, el número promedio de personas por casa y la ubicación."
   ]
  }
 ],
 "metadata": {
  "kernelspec": {
   "display_name": ".venv",
   "language": "python",
   "name": "python3"
  },
  "language_info": {
   "codemirror_mode": {
    "name": "ipython",
    "version": 3
   },
   "file_extension": ".py",
   "mimetype": "text/x-python",
   "name": "python",
   "nbconvert_exporter": "python",
   "pygments_lexer": "ipython3",
   "version": "3.11.9"
  }
 },
 "nbformat": 4,
 "nbformat_minor": 5
}
